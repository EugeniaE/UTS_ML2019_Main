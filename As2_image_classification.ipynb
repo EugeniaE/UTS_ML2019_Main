{
  "nbformat": 4,
  "nbformat_minor": 0,
  "metadata": {
    "colab": {
      "name": "As2_image_classification.ipynb",
      "provenance": [],
      "collapsed_sections": [],
      "toc_visible": true,
      "include_colab_link": true
    },
    "language_info": {
      "codemirror_mode": {
        "name": "ipython",
        "version": 3
      },
      "file_extension": ".py",
      "mimetype": "text/x-python",
      "name": "python",
      "nbconvert_exporter": "python",
      "pygments_lexer": "ipython3",
      "version": "3.5.2"
    },
    "kernelspec": {
      "name": "python3",
      "display_name": "Python 3"
    },
    "accelerator": "GPU"
  },
  "cells": [
    {
      "cell_type": "markdown",
      "metadata": {
        "id": "view-in-github",
        "colab_type": "text"
      },
      "source": [
        "<a href=\"https://colab.research.google.com/github/EugeniaE/UTS_ML2019_Main/blob/master/As2_image_classification.ipynb\" target=\"_parent\"><img src=\"https://colab.research.google.com/assets/colab-badge.svg\" alt=\"Open In Colab\"/></a>"
      ]
    },
    {
      "cell_type": "markdown",
      "metadata": {
        "colab_type": "text",
        "deletable": true,
        "editable": true,
        "id": "lLT7e7X8Qv2q"
      },
      "source": [
        "##Multiclass image classification problem using Convolutional Neural Networks\n",
        "\n",
        "###Introduction\n",
        "\n",
        "The problem chosen is Image Classification. I decided to do it as I am personally interested in this area and the field of Computer Vision is growing rapidly and there are a lot of practical application for this task.  The dataset I used may be not very representative in terms of real practical application but can be used as a demonstration of computers ability to ‘see’ and define what is there exactly on the picture. This field is applicable to many business areas nowadays, just some examples – cameras detecting cars on the road with some defects or parked in a wrong place, self-checkout in the shops, detection of defects in manufacture, medical diagnostics using images and much more. I chose the dataset above just due to its optimal size due to limited GPU and time constraints. And also, this dataset in not so well discovered in the internet, so it is good for experiments with image classification.\n",
        "\n",
        "Dataset was taken in Kaggle: \n",
        "https://www.kaggle.com/puneet6060/intel-image-classification\n",
        "\n",
        "It contains around 25000 images of size 150x150 distributed under 6 categories:\n",
        "* 'buildings' -> 0,\n",
        "*'forest' -> 1, \n",
        "*'glacier' -> 2, \n",
        "*'mountain' -> 3,\n",
        "*'sea' -> 4,\n",
        "*'street' -> 5.\n",
        "\n",
        "There are around 14000 images in Train, 3000 in Test and 7000 in Prediction. As we do not have results for prediction dataset I used test dataset as validation to see the models performance. At the end I also did some random single photo predictions from prediction dataset.\n",
        "\n",
        "\n",
        "\n",
        "\n",
        "\n"
      ]
    },
    {
      "cell_type": "markdown",
      "metadata": {
        "id": "a0nI2JZfYDet",
        "colab_type": "text"
      },
      "source": [
        "###Exploration and methodology\n",
        "\n",
        "Potential challenges with this task include: \n",
        "-quite small size of pictures -  150X150,  almost impossible to make them bigger without loss of quality. May be not enough features for classification. But small size is good for processing, it makes it faster.  Just to mention – pictures are well balances, similar number of images representing each class. From that perspective dataset is well prepared to make classification task easier.\n",
        "\n",
        "-dataset is not well discovered, some kernels give good above 90% accuracy results but there is still big field for experimentation.\n",
        "For my experiments I chose a few different CNN models:\n",
        "-\tJust random CNN with my own layers/parameters for the 1st experiment\n",
        "-\tSame model as 1st one but with addition of data augmentation – just to add some variance to the images and potentially to improve performance.\n",
        "-\tAlexNet – as one of the oldest CNNs. Even though pictures are smaller then required for original AlexNet (224X224), I resized them with ImageDataGenerator.\n",
        "-\tI tried to apply transfer learning and see how modern existing pretrained networks can easily solve this task.\n",
        "\n",
        "I also tried to apply Knn and SVM to the task, to see how simple algorithms can solve the problem, but then decided not to do it as it took too much time to train and results were worse even with feature extraction.\n",
        "\n",
        "I used ImageDataGenerator for preprocessing because it helps to keep consistency, pictures are all of same size for 100%. It also helps with data augmentation and makes coding quite simple and straitforward.\n",
        "\n",
        "Results and reflections will be given further on the way for each experiment."
      ]
    },
    {
      "cell_type": "markdown",
      "metadata": {
        "colab_type": "text",
        "deletable": true,
        "editable": true,
        "id": "ZG24TIGxUtht"
      },
      "source": [
        "### Import required packages"
      ]
    },
    {
      "cell_type": "code",
      "metadata": {
        "colab_type": "code",
        "deletable": true,
        "editable": true,
        "id": "Da7NhutTB9B5",
        "colab": {}
      },
      "source": [
        "import numpy as np\n",
        "import matplotlib.pyplot as plt\n",
        "import cv2"
      ],
      "execution_count": 0,
      "outputs": []
    },
    {
      "cell_type": "code",
      "metadata": {
        "id": "jGNaw5RLTKYP",
        "colab_type": "code",
        "outputId": "e956fb27-4034-4279-8104-50f6f56febc8",
        "colab": {
          "base_uri": "https://localhost:8080/",
          "height": 125
        }
      },
      "source": [
        "from google.colab import drive\n",
        "drive.mount('/content/gdrive')"
      ],
      "execution_count": 2,
      "outputs": [
        {
          "output_type": "stream",
          "text": [
            "Go to this URL in a browser: https://accounts.google.com/o/oauth2/auth?client_id=947318989803-6bn6qk8qdgf4n4g3pfee6491hc0brc4i.apps.googleusercontent.com&redirect_uri=urn%3Aietf%3Awg%3Aoauth%3A2.0%3Aoob&scope=email%20https%3A%2F%2Fwww.googleapis.com%2Fauth%2Fdocs.test%20https%3A%2F%2Fwww.googleapis.com%2Fauth%2Fdrive%20https%3A%2F%2Fwww.googleapis.com%2Fauth%2Fdrive.photos.readonly%20https%3A%2F%2Fwww.googleapis.com%2Fauth%2Fpeopleapi.readonly&response_type=code\n",
            "\n",
            "Enter your authorization code:\n",
            "··········\n",
            "Mounted at /content/gdrive\n"
          ],
          "name": "stdout"
        }
      ]
    },
    {
      "cell_type": "code",
      "metadata": {
        "id": "A72752vW2swU",
        "colab_type": "code",
        "colab": {}
      },
      "source": [
        "import os\n",
        "\n",
        "base_dir = '/content/gdrive/My Drive/ML_Assignment2/ML_Intel_Image_Dataset'\n",
        "train_dir = os.path.join(base_dir, 'seg_train')\n",
        "validation_dir = os.path.join(base_dir, 'seg_test')\n",
        "prediction_dir=os.path.join(base_dir, 'seg_pred')\n",
        "\n",
        "# Directory with our training building pictures\n",
        "train_bld_dir = os.path.join(train_dir, 'buildings')\n",
        "# Directory with our training forest pictures\n",
        "train_for_dir = os.path.join(train_dir, 'forest')\n",
        "# Directory with our training glasier pictures\n",
        "train_glc_dir = os.path.join(train_dir, 'glacier')\n",
        "# Directory with our training mountain pictures\n",
        "train_mnt_dir = os.path.join(train_dir, 'mountain')\n",
        "# Directory with our training sea pictures\n",
        "train_sea_dir = os.path.join(train_dir, 'sea')\n",
        "# Directory with our training street pictures\n",
        "train_str_dir = os.path.join(train_dir, 'street')\n",
        "\n",
        "# Directory with our training building pictures\n",
        "validation_bld_dir = os.path.join(validation_dir, 'buildings')\n",
        "# Directory with our training forest pictures\n",
        "validation_for_dir = os.path.join(validation_dir, 'forest')\n",
        "# Directory with our training glacier pictures\n",
        "validation_glc_dir = os.path.join(validation_dir, 'glacier')\n",
        "# Directory with our training mountain pictures\n",
        "validation_mnt_dir = os.path.join(validation_dir, 'mountain')\n",
        "# Directory with our training sea pictures\n",
        "validation_sea_dir = os.path.join(validation_dir, 'sea')\n",
        "# Directory with our training street pictures\n",
        "validation_str_dir = os.path.join(validation_dir, 'street')"
      ],
      "execution_count": 0,
      "outputs": []
    },
    {
      "cell_type": "markdown",
      "metadata": {
        "id": "dNy3fjCRZRAM",
        "colab_type": "text"
      },
      "source": [
        "##1. CNN Model"
      ]
    },
    {
      "cell_type": "markdown",
      "metadata": {
        "id": "H9xMEBj7NsCw",
        "colab_type": "text"
      },
      "source": [
        "I experimented with hyperparamethers and adding/removing layers, the model below shows relatively good results and training doesn`t take too long."
      ]
    },
    {
      "cell_type": "code",
      "metadata": {
        "id": "L9N5Z0F3HUqa",
        "colab_type": "code",
        "colab": {}
      },
      "source": [
        "import tensorflow as tf\n",
        "from tensorflow.keras.optimizers import RMSprop\n",
        "from tensorflow.keras.preprocessing.image import ImageDataGenerator\n",
        "\n",
        "model1 = tf.keras.models.Sequential([\n",
        "  tf.keras.layers.Conv2D(32, (3,3), activation='relu', input_shape=(150, 150, 3)),\n",
        "  tf.keras.layers.MaxPooling2D(2,2),\n",
        "  tf.keras.layers.Conv2D(64, (3,3), activation='relu'),\n",
        "  tf.keras.layers.MaxPooling2D(2,2),\n",
        "  tf.keras.layers.Conv2D(128, (3,3), activation='relu'),\n",
        "  tf.keras.layers.MaxPooling2D(2,2),\n",
        "  tf.keras.layers.Conv2D(128, (3,3), activation='relu'),\n",
        "  tf.keras.layers.MaxPooling2D(2,2),\n",
        "  tf.keras.layers.Flatten(),\n",
        "  tf.keras.layers.Dense(512,activation='relu'),\n",
        "  tf.keras.layers.Dense(6,activation='sigmoid'), \n",
        "])"
      ],
      "execution_count": 0,
      "outputs": []
    },
    {
      "cell_type": "code",
      "metadata": {
        "id": "QwECtzz3HePk",
        "colab_type": "code",
        "colab": {}
      },
      "source": [
        "model1.compile(loss='sparse_categorical_crossentropy',\n",
        "              optimizer=RMSprop(lr=1e-4),\n",
        "              metrics=['acc'])"
      ],
      "execution_count": 0,
      "outputs": []
    },
    {
      "cell_type": "markdown",
      "metadata": {
        "id": "JcqSRTirZpkg",
        "colab_type": "text"
      },
      "source": [
        "###Prepare images with ImageDataGenerator"
      ]
    },
    {
      "cell_type": "code",
      "metadata": {
        "id": "qzYC_cGkHkNp",
        "colab_type": "code",
        "outputId": "f8f01d4e-8db6-4956-df7b-24cca4bf0859",
        "colab": {
          "base_uri": "https://localhost:8080/",
          "height": 52
        }
      },
      "source": [
        "train_datagen = ImageDataGenerator(rescale=1/255) \n",
        "test_datagen = ImageDataGenerator(rescale=1/255)\n",
        "\n",
        "train_generator = train_datagen.flow_from_directory(\n",
        "        train_dir,\n",
        "        target_size= (150,150), \n",
        "        batch_size=20,\n",
        "        class_mode='sparse')\n",
        "\n",
        "validation_generator = test_datagen.flow_from_directory(\n",
        "        validation_dir,\n",
        "        target_size=(150,150), \n",
        "        batch_size=20,\n",
        "        class_mode='sparse' \n",
        ") "
      ],
      "execution_count": 27,
      "outputs": [
        {
          "output_type": "stream",
          "text": [
            "Found 14042 images belonging to 6 classes.\n",
            "Found 3000 images belonging to 6 classes.\n"
          ],
          "name": "stdout"
        }
      ]
    },
    {
      "cell_type": "code",
      "metadata": {
        "id": "oeGv93C_Htr-",
        "colab_type": "code",
        "outputId": "85e1a937-ce77-4d79-f3a7-0d8abb75d967",
        "colab": {
          "base_uri": "https://localhost:8080/",
          "height": 3572
        }
      },
      "source": [
        "history1 = model1.fit_generator(\n",
        "      train_generator,\n",
        "      steps_per_epoch=100, \n",
        "      epochs=100,\n",
        "      validation_data=validation_generator,\n",
        "      validation_steps=50, \n",
        "      verbose=2)"
      ],
      "execution_count": 28,
      "outputs": [
        {
          "output_type": "stream",
          "text": [
            "Epoch 1/100\n",
            "100/100 - 196s - loss: 1.4374 - acc: 0.4310 - val_loss: 1.2748 - val_acc: 0.4800\n",
            "Epoch 2/100\n",
            "100/100 - 8s - loss: 1.2007 - acc: 0.5225 - val_loss: 1.2579 - val_acc: 0.5200\n",
            "Epoch 3/100\n",
            "100/100 - 7s - loss: 1.0999 - acc: 0.5585 - val_loss: 1.1040 - val_acc: 0.5730\n",
            "Epoch 4/100\n",
            "100/100 - 7s - loss: 1.0597 - acc: 0.5915 - val_loss: 1.0230 - val_acc: 0.5990\n",
            "Epoch 5/100\n",
            "100/100 - 7s - loss: 1.0410 - acc: 0.5950 - val_loss: 0.9405 - val_acc: 0.6370\n",
            "Epoch 6/100\n",
            "100/100 - 8s - loss: 0.9719 - acc: 0.6340 - val_loss: 1.0177 - val_acc: 0.6000\n",
            "Epoch 7/100\n",
            "100/100 - 7s - loss: 0.9411 - acc: 0.6312 - val_loss: 0.9674 - val_acc: 0.6500\n",
            "Epoch 8/100\n",
            "100/100 - 8s - loss: 0.8985 - acc: 0.6580 - val_loss: 0.9908 - val_acc: 0.6010\n",
            "Epoch 9/100\n",
            "100/100 - 8s - loss: 0.8716 - acc: 0.6760 - val_loss: 0.7862 - val_acc: 0.7070\n",
            "Epoch 10/100\n",
            "100/100 - 7s - loss: 0.8581 - acc: 0.6680 - val_loss: 0.8238 - val_acc: 0.6820\n",
            "Epoch 11/100\n",
            "100/100 - 7s - loss: 0.8574 - acc: 0.6922 - val_loss: 0.8272 - val_acc: 0.7040\n",
            "Epoch 12/100\n",
            "100/100 - 7s - loss: 0.8353 - acc: 0.6945 - val_loss: 0.8809 - val_acc: 0.6670\n",
            "Epoch 13/100\n",
            "100/100 - 7s - loss: 0.7565 - acc: 0.7230 - val_loss: 0.7269 - val_acc: 0.7360\n",
            "Epoch 14/100\n",
            "100/100 - 7s - loss: 0.7800 - acc: 0.7075 - val_loss: 0.7864 - val_acc: 0.7260\n",
            "Epoch 15/100\n",
            "100/100 - 8s - loss: 0.7397 - acc: 0.7280 - val_loss: 0.7087 - val_acc: 0.7380\n",
            "Epoch 16/100\n",
            "100/100 - 8s - loss: 0.7140 - acc: 0.7335 - val_loss: 0.7797 - val_acc: 0.7210\n",
            "Epoch 17/100\n",
            "100/100 - 8s - loss: 0.7222 - acc: 0.7305 - val_loss: 0.6658 - val_acc: 0.7590\n",
            "Epoch 18/100\n",
            "100/100 - 7s - loss: 0.7329 - acc: 0.7230 - val_loss: 0.6651 - val_acc: 0.7680\n",
            "Epoch 19/100\n",
            "100/100 - 7s - loss: 0.7224 - acc: 0.7311 - val_loss: 0.7336 - val_acc: 0.7380\n",
            "Epoch 20/100\n",
            "100/100 - 7s - loss: 0.7127 - acc: 0.7420 - val_loss: 0.7067 - val_acc: 0.7310\n",
            "Epoch 21/100\n",
            "100/100 - 8s - loss: 0.6699 - acc: 0.7535 - val_loss: 0.6235 - val_acc: 0.7830\n",
            "Epoch 22/100\n",
            "100/100 - 8s - loss: 0.6544 - acc: 0.7588 - val_loss: 0.7463 - val_acc: 0.7360\n",
            "Epoch 23/100\n",
            "100/100 - 7s - loss: 0.6406 - acc: 0.7625 - val_loss: 0.6996 - val_acc: 0.7330\n",
            "Epoch 24/100\n",
            "100/100 - 7s - loss: 0.6388 - acc: 0.7690 - val_loss: 0.6486 - val_acc: 0.7550\n",
            "Epoch 25/100\n",
            "100/100 - 8s - loss: 0.6365 - acc: 0.7715 - val_loss: 0.7112 - val_acc: 0.7100\n",
            "Epoch 26/100\n",
            "100/100 - 7s - loss: 0.6029 - acc: 0.7780 - val_loss: 0.6979 - val_acc: 0.7570\n",
            "Epoch 27/100\n",
            "100/100 - 8s - loss: 0.6152 - acc: 0.7665 - val_loss: 0.5741 - val_acc: 0.7940\n",
            "Epoch 28/100\n",
            "100/100 - 7s - loss: 0.5935 - acc: 0.7835 - val_loss: 0.5810 - val_acc: 0.7890\n",
            "Epoch 29/100\n",
            "100/100 - 8s - loss: 0.5814 - acc: 0.7815 - val_loss: 0.5786 - val_acc: 0.7850\n",
            "Epoch 30/100\n",
            "100/100 - 7s - loss: 0.5700 - acc: 0.7935 - val_loss: 0.6076 - val_acc: 0.7850\n",
            "Epoch 31/100\n",
            "100/100 - 7s - loss: 0.5377 - acc: 0.8110 - val_loss: 0.5746 - val_acc: 0.8120\n",
            "Epoch 32/100\n",
            "100/100 - 7s - loss: 0.5499 - acc: 0.8017 - val_loss: 0.6030 - val_acc: 0.7810\n",
            "Epoch 33/100\n",
            "100/100 - 8s - loss: 0.5590 - acc: 0.7930 - val_loss: 0.5645 - val_acc: 0.8030\n",
            "Epoch 34/100\n",
            "100/100 - 7s - loss: 0.5328 - acc: 0.8115 - val_loss: 0.5286 - val_acc: 0.8190\n",
            "Epoch 35/100\n",
            "100/100 - 7s - loss: 0.5624 - acc: 0.7945 - val_loss: 0.5309 - val_acc: 0.8060\n",
            "Epoch 36/100\n",
            "100/100 - 8s - loss: 0.5223 - acc: 0.8055 - val_loss: 0.5893 - val_acc: 0.7820\n",
            "Epoch 37/100\n",
            "100/100 - 8s - loss: 0.5230 - acc: 0.8070 - val_loss: 0.5221 - val_acc: 0.8060\n",
            "Epoch 38/100\n",
            "100/100 - 7s - loss: 0.4919 - acc: 0.8215 - val_loss: 0.5619 - val_acc: 0.8030\n",
            "Epoch 39/100\n",
            "100/100 - 7s - loss: 0.5000 - acc: 0.8165 - val_loss: 0.5666 - val_acc: 0.8010\n",
            "Epoch 40/100\n",
            "100/100 - 7s - loss: 0.4978 - acc: 0.8310 - val_loss: 0.5695 - val_acc: 0.8000\n",
            "Epoch 41/100\n",
            "100/100 - 8s - loss: 0.4736 - acc: 0.8315 - val_loss: 0.5250 - val_acc: 0.8260\n",
            "Epoch 42/100\n",
            "100/100 - 8s - loss: 0.5229 - acc: 0.8125 - val_loss: 0.6558 - val_acc: 0.7720\n",
            "Epoch 43/100\n",
            "100/100 - 8s - loss: 0.4703 - acc: 0.8340 - val_loss: 0.5615 - val_acc: 0.8000\n",
            "Epoch 44/100\n",
            "100/100 - 7s - loss: 0.4824 - acc: 0.8300 - val_loss: 0.4963 - val_acc: 0.8310\n",
            "Epoch 45/100\n",
            "100/100 - 8s - loss: 0.4543 - acc: 0.8415 - val_loss: 0.5066 - val_acc: 0.8200\n",
            "Epoch 46/100\n",
            "100/100 - 7s - loss: 0.4596 - acc: 0.8340 - val_loss: 0.4896 - val_acc: 0.8330\n",
            "Epoch 47/100\n",
            "100/100 - 8s - loss: 0.4736 - acc: 0.8335 - val_loss: 0.4839 - val_acc: 0.8280\n",
            "Epoch 48/100\n",
            "100/100 - 8s - loss: 0.4602 - acc: 0.8255 - val_loss: 0.5889 - val_acc: 0.7990\n",
            "Epoch 49/100\n",
            "100/100 - 7s - loss: 0.4483 - acc: 0.8350 - val_loss: 0.4825 - val_acc: 0.8340\n",
            "Epoch 50/100\n",
            "100/100 - 7s - loss: 0.4332 - acc: 0.8460 - val_loss: 0.5611 - val_acc: 0.8040\n",
            "Epoch 51/100\n",
            "100/100 - 8s - loss: 0.4209 - acc: 0.8420 - val_loss: 0.4924 - val_acc: 0.8440\n",
            "Epoch 52/100\n",
            "100/100 - 7s - loss: 0.4270 - acc: 0.8515 - val_loss: 0.5404 - val_acc: 0.8120\n",
            "Epoch 53/100\n",
            "100/100 - 8s - loss: 0.4463 - acc: 0.8360 - val_loss: 0.4648 - val_acc: 0.8280\n",
            "Epoch 54/100\n",
            "100/100 - 8s - loss: 0.4459 - acc: 0.8440 - val_loss: 0.5276 - val_acc: 0.8030\n",
            "Epoch 55/100\n",
            "100/100 - 7s - loss: 0.4480 - acc: 0.8455 - val_loss: 0.5758 - val_acc: 0.8040\n",
            "Epoch 56/100\n",
            "100/100 - 7s - loss: 0.3821 - acc: 0.8703 - val_loss: 0.5814 - val_acc: 0.8110\n",
            "Epoch 57/100\n",
            "100/100 - 8s - loss: 0.4094 - acc: 0.8590 - val_loss: 0.4487 - val_acc: 0.8420\n",
            "Epoch 58/100\n",
            "100/100 - 8s - loss: 0.3581 - acc: 0.8700 - val_loss: 0.5050 - val_acc: 0.8260\n",
            "Epoch 59/100\n",
            "100/100 - 7s - loss: 0.3911 - acc: 0.8567 - val_loss: 0.4990 - val_acc: 0.8320\n",
            "Epoch 60/100\n",
            "100/100 - 7s - loss: 0.3912 - acc: 0.8605 - val_loss: 0.4935 - val_acc: 0.8350\n",
            "Epoch 61/100\n",
            "100/100 - 7s - loss: 0.3833 - acc: 0.8655 - val_loss: 0.4340 - val_acc: 0.8540\n",
            "Epoch 62/100\n",
            "100/100 - 8s - loss: 0.4058 - acc: 0.8545 - val_loss: 0.4690 - val_acc: 0.8370\n",
            "Epoch 63/100\n",
            "100/100 - 8s - loss: 0.3891 - acc: 0.8630 - val_loss: 0.5518 - val_acc: 0.8170\n",
            "Epoch 64/100\n",
            "100/100 - 8s - loss: 0.3932 - acc: 0.8505 - val_loss: 0.5098 - val_acc: 0.8180\n",
            "Epoch 65/100\n",
            "100/100 - 8s - loss: 0.3481 - acc: 0.8800 - val_loss: 0.5693 - val_acc: 0.8090\n",
            "Epoch 66/100\n",
            "100/100 - 8s - loss: 0.3337 - acc: 0.8755 - val_loss: 0.4614 - val_acc: 0.8410\n",
            "Epoch 67/100\n",
            "100/100 - 8s - loss: 0.3794 - acc: 0.8605 - val_loss: 0.5252 - val_acc: 0.8230\n",
            "Epoch 68/100\n",
            "100/100 - 7s - loss: 0.3548 - acc: 0.8715 - val_loss: 0.4875 - val_acc: 0.8320\n",
            "Epoch 69/100\n",
            "100/100 - 7s - loss: 0.3471 - acc: 0.8724 - val_loss: 0.5128 - val_acc: 0.8330\n",
            "Epoch 70/100\n",
            "100/100 - 8s - loss: 0.3641 - acc: 0.8675 - val_loss: 0.5328 - val_acc: 0.8070\n",
            "Epoch 71/100\n",
            "100/100 - 8s - loss: 0.3462 - acc: 0.8800 - val_loss: 0.6563 - val_acc: 0.7870\n",
            "Epoch 72/100\n",
            "100/100 - 8s - loss: 0.2966 - acc: 0.8925 - val_loss: 0.4634 - val_acc: 0.8450\n",
            "Epoch 73/100\n",
            "100/100 - 8s - loss: 0.3252 - acc: 0.8870 - val_loss: 0.4913 - val_acc: 0.8360\n",
            "Epoch 74/100\n",
            "100/100 - 8s - loss: 0.3345 - acc: 0.8829 - val_loss: 0.4783 - val_acc: 0.8370\n",
            "Epoch 75/100\n",
            "100/100 - 7s - loss: 0.3175 - acc: 0.8830 - val_loss: 0.4514 - val_acc: 0.8530\n",
            "Epoch 76/100\n",
            "100/100 - 7s - loss: 0.3303 - acc: 0.8810 - val_loss: 0.4824 - val_acc: 0.8450\n",
            "Epoch 77/100\n",
            "100/100 - 7s - loss: 0.3438 - acc: 0.8775 - val_loss: 0.4749 - val_acc: 0.8430\n",
            "Epoch 78/100\n",
            "100/100 - 7s - loss: 0.3199 - acc: 0.8865 - val_loss: 0.4796 - val_acc: 0.8480\n",
            "Epoch 79/100\n",
            "100/100 - 7s - loss: 0.3185 - acc: 0.8945 - val_loss: 0.4410 - val_acc: 0.8470\n",
            "Epoch 80/100\n",
            "100/100 - 7s - loss: 0.3056 - acc: 0.8875 - val_loss: 0.5039 - val_acc: 0.8240\n",
            "Epoch 81/100\n",
            "100/100 - 8s - loss: 0.2783 - acc: 0.8986 - val_loss: 0.4503 - val_acc: 0.8470\n",
            "Epoch 82/100\n",
            "100/100 - 8s - loss: 0.2913 - acc: 0.9000 - val_loss: 0.5354 - val_acc: 0.8200\n",
            "Epoch 83/100\n",
            "100/100 - 7s - loss: 0.3071 - acc: 0.8920 - val_loss: 0.4742 - val_acc: 0.8270\n",
            "Epoch 84/100\n",
            "100/100 - 7s - loss: 0.3009 - acc: 0.8970 - val_loss: 0.4782 - val_acc: 0.8490\n",
            "Epoch 85/100\n",
            "100/100 - 8s - loss: 0.2956 - acc: 0.8990 - val_loss: 0.4773 - val_acc: 0.8380\n",
            "Epoch 86/100\n",
            "100/100 - 7s - loss: 0.2580 - acc: 0.9095 - val_loss: 0.4778 - val_acc: 0.8470\n",
            "Epoch 87/100\n",
            "100/100 - 8s - loss: 0.2637 - acc: 0.9060 - val_loss: 0.5088 - val_acc: 0.8360\n",
            "Epoch 88/100\n",
            "100/100 - 8s - loss: 0.2870 - acc: 0.8970 - val_loss: 0.4861 - val_acc: 0.8310\n",
            "Epoch 89/100\n",
            "100/100 - 8s - loss: 0.2805 - acc: 0.9020 - val_loss: 0.4797 - val_acc: 0.8490\n",
            "Epoch 90/100\n",
            "100/100 - 8s - loss: 0.2797 - acc: 0.9050 - val_loss: 0.4528 - val_acc: 0.8440\n",
            "Epoch 91/100\n",
            "100/100 - 7s - loss: 0.2884 - acc: 0.8940 - val_loss: 0.5260 - val_acc: 0.8270\n",
            "Epoch 92/100\n",
            "100/100 - 7s - loss: 0.2280 - acc: 0.9218 - val_loss: 0.5309 - val_acc: 0.8340\n",
            "Epoch 93/100\n",
            "100/100 - 7s - loss: 0.2579 - acc: 0.9170 - val_loss: 0.6044 - val_acc: 0.8150\n",
            "Epoch 94/100\n",
            "100/100 - 7s - loss: 0.2372 - acc: 0.9203 - val_loss: 0.5231 - val_acc: 0.8450\n",
            "Epoch 95/100\n",
            "100/100 - 7s - loss: 0.2326 - acc: 0.9210 - val_loss: 0.6092 - val_acc: 0.8230\n",
            "Epoch 96/100\n",
            "100/100 - 7s - loss: 0.2648 - acc: 0.9115 - val_loss: 0.5044 - val_acc: 0.8450\n",
            "Epoch 97/100\n",
            "100/100 - 7s - loss: 0.2672 - acc: 0.9050 - val_loss: 0.4784 - val_acc: 0.8520\n",
            "Epoch 98/100\n",
            "100/100 - 7s - loss: 0.2430 - acc: 0.9180 - val_loss: 0.4911 - val_acc: 0.8510\n",
            "Epoch 99/100\n",
            "100/100 - 7s - loss: 0.2273 - acc: 0.9200 - val_loss: 0.4574 - val_acc: 0.8650\n",
            "Epoch 100/100\n",
            "100/100 - 7s - loss: 0.2023 - acc: 0.9284 - val_loss: 0.4825 - val_acc: 0.8500\n"
          ],
          "name": "stdout"
        }
      ]
    },
    {
      "cell_type": "markdown",
      "metadata": {
        "id": "ynrdO4YXL3pz",
        "colab_type": "text"
      },
      "source": [
        "## Result 1.\n",
        "The result above is after 100 epochs. Accuracy of 92% on training and 85 on validation dataset.\n",
        "\n",
        "Below is the comparison of accuracy and loss change during 100 epochs of training on training and validation datasets. We see that accuracy goes up and loss goes down. But after about 50 epochs results start differ on training and validation datasets. This means that model learned training dataset well, so training accuracy goes up. But validation accuracy stays lower. This means that model cannot generalize very well on the data it didn`t see. Or we can also say that it is overfitting.\n"
      ]
    },
    {
      "cell_type": "markdown",
      "metadata": {
        "id": "B5_eK6j5tTso",
        "colab_type": "text"
      },
      "source": [
        "### Visualisation of result 1"
      ]
    },
    {
      "cell_type": "code",
      "metadata": {
        "id": "dlsL8bN4Z4HA",
        "colab_type": "code",
        "outputId": "2ee6cc07-cd14-43bc-87da-6ba302b4c8a3",
        "colab": {
          "base_uri": "https://localhost:8080/",
          "height": 544
        }
      },
      "source": [
        "import matplotlib.pyplot as plt\n",
        "acc = history1.history['acc']\n",
        "val_acc = history1.history['val_acc']\n",
        "loss = history1.history['loss']\n",
        "val_loss = history1.history['val_loss']\n",
        "\n",
        "epochs = range(len(acc))\n",
        "\n",
        "plt.plot(epochs, acc, 'bo', label='Training accuracy')\n",
        "plt.plot(epochs, val_acc, 'b', label='Validation accuracy')\n",
        "plt.title('Training and validation accuracy')\n",
        "\n",
        "plt.figure()\n",
        "\n",
        "plt.plot(epochs, loss, 'bo', label='Training Loss')\n",
        "plt.plot(epochs, val_loss, 'b', label='Validation Loss')\n",
        "plt.title('Training and validation loss')\n",
        "plt.legend()\n",
        "\n",
        "plt.show()"
      ],
      "execution_count": 29,
      "outputs": [
        {
          "output_type": "display_data",
          "data": {
            "image/png": "[encoded data removed]",
            "text/plain": [
              "<Figure size 432x288 with 1 Axes>"
            ]
          },
          "metadata": {
            "tags": []
          }
        },
        {
          "output_type": "display_data",
          "data": {
            "image/png": "[encoded data removed]",
            "text/plain": [
              "<Figure size 432x288 with 1 Axes>"
            ]
          },
          "metadata": {
            "tags": []
          }
        }
      ]
    },
    {
      "cell_type": "markdown",
      "metadata": {
        "id": "cvOZYga6g2E3",
        "colab_type": "text"
      },
      "source": [
        "##2. Create same model for augmented data - just not to mix them up\n"
      ]
    },
    {
      "cell_type": "code",
      "metadata": {
        "id": "Pu22Et-TaVgy",
        "colab_type": "code",
        "colab": {}
      },
      "source": [
        "model2 = tf.keras.models.Sequential([\n",
        "  tf.keras.layers.Conv2D(32, (3,3), activation='relu', input_shape=(150, 150, 3)),\n",
        "  tf.keras.layers.MaxPooling2D(2,2),\n",
        "  tf.keras.layers.Conv2D(64, (3,3), activation='relu'),\n",
        "  tf.keras.layers.MaxPooling2D(2,2),\n",
        "  tf.keras.layers.Conv2D(128, (3,3), activation='relu'),\n",
        "  tf.keras.layers.MaxPooling2D(2,2),\n",
        "  tf.keras.layers.Conv2D(128, (3,3), activation='relu'),\n",
        "  tf.keras.layers.MaxPooling2D(2,2),\n",
        "  tf.keras.layers.Flatten(),\n",
        "  tf.keras.layers.Dense(512,activation='relu'),\n",
        "  tf.keras.layers.Dense(6,activation='sigmoid'), \n",
        "])"
      ],
      "execution_count": 0,
      "outputs": []
    },
    {
      "cell_type": "markdown",
      "metadata": {
        "id": "cpKTsncphT67",
        "colab_type": "text"
      },
      "source": [
        "###Prepare images and augment data with ImageDataGererator"
      ]
    },
    {
      "cell_type": "markdown",
      "metadata": {
        "id": "MbMsCzmbNfT2",
        "colab_type": "text"
      },
      "source": [
        "Augmentation can help to solve problem of overfitting by adding variance to the dastaset."
      ]
    },
    {
      "cell_type": "code",
      "metadata": {
        "id": "NSNXtW2oaY10",
        "colab_type": "code",
        "outputId": "4fbbef0c-fdc0-46ed-cc36-352d7561fedf",
        "colab": {
          "base_uri": "https://localhost:8080/",
          "height": 52
        }
      },
      "source": [
        "train_datagen = ImageDataGenerator(\n",
        "      rescale=1./255,\n",
        "      rotation_range=40,\n",
        "      width_shift_range=0.2,\n",
        "      height_shift_range=0.2,\n",
        "      shear_range=0.2,\n",
        "      zoom_range=0.2,\n",
        "      horizontal_flip=True,\n",
        "      fill_mode='nearest')\n",
        "\n",
        "test_datagen = ImageDataGenerator(rescale=1/255) \n",
        "\n",
        "train_generator = train_datagen.flow_from_directory(\n",
        "        train_dir,\n",
        "        target_size=(150,150),\n",
        "        batch_size=20,\n",
        "        class_mode='sparse')\n",
        "\n",
        "validation_generator = test_datagen.flow_from_directory(\n",
        "        validation_dir,\n",
        "        target_size=(150,150),\n",
        "        batch_size=20,\n",
        "        class_mode='sparse')"
      ],
      "execution_count": 20,
      "outputs": [
        {
          "output_type": "stream",
          "text": [
            "Found 14042 images belonging to 6 classes.\n",
            "Found 3000 images belonging to 6 classes.\n"
          ],
          "name": "stdout"
        }
      ]
    },
    {
      "cell_type": "code",
      "metadata": {
        "id": "wHScdQYzaak-",
        "colab_type": "code",
        "outputId": "5708b18b-cb84-4239-8eb7-4ed64b462614",
        "colab": {
          "base_uri": "https://localhost:8080/",
          "height": 3572
        }
      },
      "source": [
        "model2.compile(loss='sparse_categorical_crossentropy',\n",
        "              optimizer=RMSprop(lr=1e-4),\n",
        "              metrics=['acc'])\n",
        "\n",
        "history2 = model2.fit_generator(\n",
        "      train_generator,\n",
        "      steps_per_epoch=100,  \n",
        "      epochs=100,\n",
        "      validation_data=validation_generator,\n",
        "      validation_steps=50, \n",
        "      verbose=2)"
      ],
      "execution_count": 22,
      "outputs": [
        {
          "output_type": "stream",
          "text": [
            "Epoch 1/100\n",
            "100/100 - 20s - loss: 0.7487 - acc: 0.7295 - val_loss: 0.6517 - val_acc: 0.7880\n",
            "Epoch 2/100\n",
            "100/100 - 17s - loss: 0.7289 - acc: 0.7290 - val_loss: 0.7315 - val_acc: 0.7560\n",
            "Epoch 3/100\n",
            "100/100 - 17s - loss: 0.7356 - acc: 0.7210 - val_loss: 0.7595 - val_acc: 0.7330\n",
            "Epoch 4/100\n",
            "100/100 - 17s - loss: 0.7020 - acc: 0.7415 - val_loss: 0.7375 - val_acc: 0.7500\n",
            "Epoch 5/100\n",
            "100/100 - 16s - loss: 0.6991 - acc: 0.7462 - val_loss: 0.7355 - val_acc: 0.7680\n",
            "Epoch 6/100\n",
            "100/100 - 18s - loss: 0.6936 - acc: 0.7455 - val_loss: 0.7410 - val_acc: 0.7540\n",
            "Epoch 7/100\n",
            "100/100 - 16s - loss: 0.7104 - acc: 0.7410 - val_loss: 0.9818 - val_acc: 0.6830\n",
            "Epoch 8/100\n",
            "100/100 - 18s - loss: 0.7117 - acc: 0.7505 - val_loss: 0.6905 - val_acc: 0.7820\n",
            "Epoch 9/100\n",
            "100/100 - 17s - loss: 0.6646 - acc: 0.7560 - val_loss: 0.7180 - val_acc: 0.7650\n",
            "Epoch 10/100\n",
            "100/100 - 17s - loss: 0.6769 - acc: 0.7595 - val_loss: 0.6969 - val_acc: 0.7800\n",
            "Epoch 11/100\n",
            "100/100 - 18s - loss: 0.6849 - acc: 0.7445 - val_loss: 0.8457 - val_acc: 0.7300\n",
            "Epoch 12/100\n",
            "100/100 - 17s - loss: 0.6899 - acc: 0.7442 - val_loss: 0.7380 - val_acc: 0.7530\n",
            "Epoch 13/100\n",
            "100/100 - 17s - loss: 0.7052 - acc: 0.7380 - val_loss: 0.7109 - val_acc: 0.7520\n",
            "Epoch 14/100\n",
            "100/100 - 17s - loss: 0.6890 - acc: 0.7580 - val_loss: 0.6348 - val_acc: 0.7910\n",
            "Epoch 15/100\n",
            "100/100 - 18s - loss: 0.6689 - acc: 0.7630 - val_loss: 0.7373 - val_acc: 0.7480\n",
            "Epoch 16/100\n",
            "100/100 - 17s - loss: 0.6855 - acc: 0.7490 - val_loss: 0.7779 - val_acc: 0.7400\n",
            "Epoch 17/100\n",
            "100/100 - 18s - loss: 0.6517 - acc: 0.7620 - val_loss: 0.7832 - val_acc: 0.7410\n",
            "Epoch 18/100\n",
            "100/100 - 17s - loss: 0.6604 - acc: 0.7565 - val_loss: 0.8072 - val_acc: 0.7400\n",
            "Epoch 19/100\n",
            "100/100 - 17s - loss: 0.6662 - acc: 0.7540 - val_loss: 0.6656 - val_acc: 0.7780\n",
            "Epoch 20/100\n",
            "100/100 - 17s - loss: 0.6609 - acc: 0.7565 - val_loss: 0.6986 - val_acc: 0.7800\n",
            "Epoch 21/100\n",
            "100/100 - 17s - loss: 0.6660 - acc: 0.7608 - val_loss: 0.6483 - val_acc: 0.7820\n",
            "Epoch 22/100\n",
            "100/100 - 18s - loss: 0.6456 - acc: 0.7735 - val_loss: 0.6961 - val_acc: 0.7710\n",
            "Epoch 23/100\n",
            "100/100 - 17s - loss: 0.6604 - acc: 0.7650 - val_loss: 0.6259 - val_acc: 0.7890\n",
            "Epoch 24/100\n",
            "100/100 - 17s - loss: 0.6740 - acc: 0.7380 - val_loss: 0.6445 - val_acc: 0.7890\n",
            "Epoch 25/100\n",
            "100/100 - 17s - loss: 0.6707 - acc: 0.7523 - val_loss: 0.6456 - val_acc: 0.7840\n",
            "Epoch 26/100\n",
            "100/100 - 17s - loss: 0.6361 - acc: 0.7755 - val_loss: 0.6900 - val_acc: 0.7770\n",
            "Epoch 27/100\n",
            "100/100 - 17s - loss: 0.6689 - acc: 0.7600 - val_loss: 0.8580 - val_acc: 0.7160\n",
            "Epoch 28/100\n",
            "100/100 - 17s - loss: 0.6734 - acc: 0.7535 - val_loss: 0.6299 - val_acc: 0.7880\n",
            "Epoch 29/100\n",
            "100/100 - 17s - loss: 0.6560 - acc: 0.7690 - val_loss: 0.6813 - val_acc: 0.7810\n",
            "Epoch 30/100\n",
            "100/100 - 17s - loss: 0.6507 - acc: 0.7540 - val_loss: 0.6175 - val_acc: 0.7910\n",
            "Epoch 31/100\n",
            "100/100 - 17s - loss: 0.6635 - acc: 0.7455 - val_loss: 0.6505 - val_acc: 0.7890\n",
            "Epoch 32/100\n",
            "100/100 - 17s - loss: 0.6356 - acc: 0.7740 - val_loss: 0.6147 - val_acc: 0.7900\n",
            "Epoch 33/100\n",
            "100/100 - 17s - loss: 0.6520 - acc: 0.7725 - val_loss: 0.6908 - val_acc: 0.7740\n",
            "Epoch 34/100\n",
            "100/100 - 17s - loss: 0.6053 - acc: 0.7905 - val_loss: 0.6827 - val_acc: 0.7760\n",
            "Epoch 35/100\n",
            "100/100 - 17s - loss: 0.6430 - acc: 0.7465 - val_loss: 0.5980 - val_acc: 0.8000\n",
            "Epoch 36/100\n",
            "100/100 - 17s - loss: 0.6047 - acc: 0.7810 - val_loss: 0.7265 - val_acc: 0.7720\n",
            "Epoch 37/100\n",
            "100/100 - 17s - loss: 0.6071 - acc: 0.7755 - val_loss: 0.6881 - val_acc: 0.7920\n",
            "Epoch 38/100\n",
            "100/100 - 17s - loss: 0.6523 - acc: 0.7720 - val_loss: 0.6641 - val_acc: 0.7850\n",
            "Epoch 39/100\n",
            "100/100 - 17s - loss: 0.6534 - acc: 0.7680 - val_loss: 0.6048 - val_acc: 0.8030\n",
            "Epoch 40/100\n",
            "100/100 - 17s - loss: 0.5769 - acc: 0.7850 - val_loss: 0.7123 - val_acc: 0.7590\n",
            "Epoch 41/100\n",
            "100/100 - 17s - loss: 0.6008 - acc: 0.7750 - val_loss: 0.6333 - val_acc: 0.7930\n",
            "Epoch 42/100\n",
            "100/100 - 17s - loss: 0.6528 - acc: 0.7630 - val_loss: 0.6039 - val_acc: 0.7960\n",
            "Epoch 43/100\n",
            "100/100 - 17s - loss: 0.6103 - acc: 0.7765 - val_loss: 0.8158 - val_acc: 0.7460\n",
            "Epoch 44/100\n",
            "100/100 - 17s - loss: 0.5811 - acc: 0.7760 - val_loss: 0.6189 - val_acc: 0.8040\n",
            "Epoch 45/100\n",
            "100/100 - 17s - loss: 0.6088 - acc: 0.7830 - val_loss: 0.8005 - val_acc: 0.7530\n",
            "Epoch 46/100\n",
            "100/100 - 17s - loss: 0.6352 - acc: 0.7750 - val_loss: 0.6413 - val_acc: 0.7940\n",
            "Epoch 47/100\n",
            "100/100 - 17s - loss: 0.5796 - acc: 0.7770 - val_loss: 0.6890 - val_acc: 0.7950\n",
            "Epoch 48/100\n",
            "100/100 - 17s - loss: 0.6224 - acc: 0.7770 - val_loss: 0.6058 - val_acc: 0.8030\n",
            "Epoch 49/100\n",
            "100/100 - 17s - loss: 0.5991 - acc: 0.7825 - val_loss: 0.7422 - val_acc: 0.7540\n",
            "Epoch 50/100\n",
            "100/100 - 17s - loss: 0.5971 - acc: 0.7860 - val_loss: 0.6287 - val_acc: 0.8050\n",
            "Epoch 51/100\n",
            "100/100 - 17s - loss: 0.5994 - acc: 0.7800 - val_loss: 0.7331 - val_acc: 0.7600\n",
            "Epoch 52/100\n",
            "100/100 - 17s - loss: 0.6085 - acc: 0.7735 - val_loss: 0.6390 - val_acc: 0.7990\n",
            "Epoch 53/100\n",
            "100/100 - 17s - loss: 0.6058 - acc: 0.7765 - val_loss: 0.6226 - val_acc: 0.7960\n",
            "Epoch 54/100\n",
            "100/100 - 17s - loss: 0.6308 - acc: 0.7765 - val_loss: 0.7147 - val_acc: 0.7570\n",
            "Epoch 55/100\n",
            "100/100 - 17s - loss: 0.5893 - acc: 0.7840 - val_loss: 0.6723 - val_acc: 0.7900\n",
            "Epoch 56/100\n",
            "100/100 - 16s - loss: 0.5911 - acc: 0.7896 - val_loss: 0.7032 - val_acc: 0.7720\n",
            "Epoch 57/100\n",
            "100/100 - 17s - loss: 0.5715 - acc: 0.7880 - val_loss: 0.6632 - val_acc: 0.7900\n",
            "Epoch 58/100\n",
            "100/100 - 17s - loss: 0.5542 - acc: 0.7950 - val_loss: 0.6184 - val_acc: 0.8110\n",
            "Epoch 59/100\n",
            "100/100 - 17s - loss: 0.6058 - acc: 0.7780 - val_loss: 0.6740 - val_acc: 0.7880\n",
            "Epoch 60/100\n",
            "100/100 - 17s - loss: 0.5932 - acc: 0.7855 - val_loss: 0.6492 - val_acc: 0.8000\n",
            "Epoch 61/100\n",
            "100/100 - 17s - loss: 0.5971 - acc: 0.7855 - val_loss: 0.7073 - val_acc: 0.7680\n",
            "Epoch 62/100\n",
            "100/100 - 17s - loss: 0.5640 - acc: 0.7985 - val_loss: 0.6120 - val_acc: 0.8180\n",
            "Epoch 63/100\n",
            "100/100 - 17s - loss: 0.5944 - acc: 0.7911 - val_loss: 0.6604 - val_acc: 0.7930\n",
            "Epoch 64/100\n",
            "100/100 - 17s - loss: 0.5568 - acc: 0.8025 - val_loss: 0.5841 - val_acc: 0.8060\n",
            "Epoch 65/100\n",
            "100/100 - 17s - loss: 0.6014 - acc: 0.7881 - val_loss: 0.6716 - val_acc: 0.7910\n",
            "Epoch 66/100\n",
            "100/100 - 17s - loss: 0.5970 - acc: 0.7855 - val_loss: 0.6256 - val_acc: 0.8070\n",
            "Epoch 67/100\n",
            "100/100 - 17s - loss: 0.5602 - acc: 0.8065 - val_loss: 0.6195 - val_acc: 0.8020\n",
            "Epoch 68/100\n",
            "100/100 - 17s - loss: 0.5479 - acc: 0.7975 - val_loss: 0.5613 - val_acc: 0.8210\n",
            "Epoch 69/100\n",
            "100/100 - 17s - loss: 0.5770 - acc: 0.7945 - val_loss: 0.6469 - val_acc: 0.7860\n",
            "Epoch 70/100\n",
            "100/100 - 16s - loss: 0.5823 - acc: 0.7900 - val_loss: 0.6220 - val_acc: 0.7970\n",
            "Epoch 71/100\n",
            "100/100 - 16s - loss: 0.5644 - acc: 0.7920 - val_loss: 0.5755 - val_acc: 0.8200\n",
            "Epoch 72/100\n",
            "100/100 - 17s - loss: 0.5851 - acc: 0.7960 - val_loss: 0.5214 - val_acc: 0.8370\n",
            "Epoch 73/100\n",
            "100/100 - 17s - loss: 0.5706 - acc: 0.7916 - val_loss: 0.6068 - val_acc: 0.8120\n",
            "Epoch 74/100\n",
            "100/100 - 17s - loss: 0.5595 - acc: 0.7980 - val_loss: 0.7677 - val_acc: 0.7680\n",
            "Epoch 75/100\n",
            "100/100 - 17s - loss: 0.5746 - acc: 0.8005 - val_loss: 0.6363 - val_acc: 0.8070\n",
            "Epoch 76/100\n",
            "100/100 - 17s - loss: 0.5592 - acc: 0.7985 - val_loss: 0.7393 - val_acc: 0.7710\n",
            "Epoch 77/100\n",
            "100/100 - 17s - loss: 0.5528 - acc: 0.8000 - val_loss: 0.5225 - val_acc: 0.8260\n",
            "Epoch 78/100\n",
            "100/100 - 17s - loss: 0.5702 - acc: 0.8015 - val_loss: 0.8976 - val_acc: 0.7300\n",
            "Epoch 79/100\n",
            "100/100 - 17s - loss: 0.5494 - acc: 0.7990 - val_loss: 0.6541 - val_acc: 0.7970\n",
            "Epoch 80/100\n",
            "100/100 - 17s - loss: 0.5429 - acc: 0.7916 - val_loss: 0.6681 - val_acc: 0.7870\n",
            "Epoch 81/100\n",
            "100/100 - 17s - loss: 0.5577 - acc: 0.7975 - val_loss: 0.5636 - val_acc: 0.8300\n",
            "Epoch 82/100\n",
            "100/100 - 17s - loss: 0.5470 - acc: 0.8080 - val_loss: 0.6593 - val_acc: 0.7940\n",
            "Epoch 83/100\n",
            "100/100 - 17s - loss: 0.5324 - acc: 0.8015 - val_loss: 0.6545 - val_acc: 0.7920\n",
            "Epoch 84/100\n",
            "100/100 - 17s - loss: 0.5497 - acc: 0.8025 - val_loss: 0.5894 - val_acc: 0.8210\n",
            "Epoch 85/100\n",
            "100/100 - 17s - loss: 0.5306 - acc: 0.8190 - val_loss: 0.5917 - val_acc: 0.8270\n",
            "Epoch 86/100\n",
            "100/100 - 16s - loss: 0.5537 - acc: 0.7965 - val_loss: 0.6249 - val_acc: 0.7980\n",
            "Epoch 87/100\n",
            "100/100 - 16s - loss: 0.5628 - acc: 0.7970 - val_loss: 0.6141 - val_acc: 0.8110\n",
            "Epoch 88/100\n",
            "100/100 - 16s - loss: 0.5448 - acc: 0.8012 - val_loss: 0.6809 - val_acc: 0.7690\n",
            "Epoch 89/100\n",
            "100/100 - 16s - loss: 0.5491 - acc: 0.7970 - val_loss: 0.6436 - val_acc: 0.7940\n",
            "Epoch 90/100\n",
            "100/100 - 17s - loss: 0.5403 - acc: 0.7960 - val_loss: 0.6073 - val_acc: 0.8070\n",
            "Epoch 91/100\n",
            "100/100 - 17s - loss: 0.5333 - acc: 0.8015 - val_loss: 0.5406 - val_acc: 0.8280\n",
            "Epoch 92/100\n",
            "100/100 - 17s - loss: 0.5302 - acc: 0.8035 - val_loss: 0.5913 - val_acc: 0.8140\n",
            "Epoch 93/100\n",
            "100/100 - 16s - loss: 0.5224 - acc: 0.8050 - val_loss: 0.6347 - val_acc: 0.7930\n",
            "Epoch 94/100\n",
            "100/100 - 17s - loss: 0.5563 - acc: 0.7975 - val_loss: 0.7055 - val_acc: 0.7690\n",
            "Epoch 95/100\n",
            "100/100 - 17s - loss: 0.5786 - acc: 0.7900 - val_loss: 0.5978 - val_acc: 0.8090\n",
            "Epoch 96/100\n",
            "100/100 - 17s - loss: 0.5481 - acc: 0.8025 - val_loss: 0.5366 - val_acc: 0.8270\n",
            "Epoch 97/100\n",
            "100/100 - 17s - loss: 0.5111 - acc: 0.8235 - val_loss: 0.5999 - val_acc: 0.8170\n",
            "Epoch 98/100\n",
            "100/100 - 16s - loss: 0.5061 - acc: 0.8244 - val_loss: 0.5949 - val_acc: 0.8260\n",
            "Epoch 99/100\n",
            "100/100 - 17s - loss: 0.5251 - acc: 0.8113 - val_loss: 0.8103 - val_acc: 0.7690\n",
            "Epoch 100/100\n",
            "100/100 - 17s - loss: 0.5279 - acc: 0.8100 - val_loss: 0.6826 - val_acc: 0.7770\n"
          ],
          "name": "stdout"
        }
      ]
    },
    {
      "cell_type": "markdown",
      "metadata": {
        "id": "-WZ0pZd64QOA",
        "colab_type": "text"
      },
      "source": [
        "## Result 2.\n",
        "The result above is after 150 epochs, I started with 50 when it reached about 70% accuracy and then trained for 100 extra epochs. They helped to achieve accuracy of 81% on training and 77 on validation dataset.\n",
        "\n",
        "Below is the comparison of accuracy and loss change during last 100 epochs of training on training and validation datasets. We see that accuracy goes up and loss goes down. Training and validation results are very close to each other, this means that there is no overfitting (or a least less overfitting) and that the model trained on training dataset also performs well on validation dataset. There are fluctations along the training which can be caused by backpropagation.\n",
        "\n",
        "Even though overall accuracy is lower that in 1st case this model is more stable. So if continue training accuracy can be increased."
      ]
    },
    {
      "cell_type": "markdown",
      "metadata": {
        "id": "gKdf98Ujtrgg",
        "colab_type": "text"
      },
      "source": [
        "###Visualisation of result 2"
      ]
    },
    {
      "cell_type": "code",
      "metadata": {
        "id": "_WOpvlCeeCX2",
        "colab_type": "code",
        "outputId": "92d0c5dc-0a9b-4dcc-ffcf-6073b5824efa",
        "colab": {
          "base_uri": "https://localhost:8080/",
          "height": 544
        }
      },
      "source": [
        "import matplotlib.pyplot as plt\n",
        "acc = history2.history['acc']\n",
        "val_acc = history2.history['val_acc']\n",
        "loss = history2.history['loss']\n",
        "val_loss = history2.history['val_loss']\n",
        "\n",
        "epochs = range(len(acc))\n",
        "\n",
        "plt.plot(epochs, acc, 'bo', label='Training accuracy')\n",
        "plt.plot(epochs, val_acc, 'b', label='Validation accuracy')\n",
        "plt.title('Training and validation accuracy')\n",
        "\n",
        "plt.figure()\n",
        "\n",
        "plt.plot(epochs, loss, 'bo', label='Training Loss')\n",
        "plt.plot(epochs, val_loss, 'b', label='Validation Loss')\n",
        "plt.title('Training and validation loss')\n",
        "plt.legend()\n",
        "\n",
        "plt.show()"
      ],
      "execution_count": 23,
      "outputs": [
        {
          "output_type": "display_data",
          "data": {
            "image/png": "[encoded data removed]",
            "text/plain": [
              "<Figure size 432x288 with 1 Axes>"
            ]
          },
          "metadata": {
            "tags": []
          }
        },
        {
          "output_type": "display_data",
          "data": {
            "image/png": "[encoded data removed]",
            "text/plain": [
              "<Figure size 432x288 with 1 Axes>"
            ]
          },
          "metadata": {
            "tags": []
          }
        }
      ]
    },
    {
      "cell_type": "markdown",
      "metadata": {
        "id": "8hAnER5Bfztc",
        "colab_type": "text"
      },
      "source": [
        "##3. Create AlexNet Architecture"
      ]
    },
    {
      "cell_type": "code",
      "metadata": {
        "id": "DyB44RjueUI4",
        "colab_type": "code",
        "colab": {}
      },
      "source": [
        "model3 = tf.keras.models.Sequential([\n",
        "     #original model was built for input shape of 224X224\n",
        "    tf.keras.layers.Conv2D(96, (11,11),strides=4, padding='valid', activation='relu', input_shape=(224, 224, 3)),\n",
        "    tf.keras.layers.MaxPooling2D((2, 2), strides=(2,2),padding='valid'),\n",
        "    tf.keras.layers.BatchNormalization(),\n",
        "    tf.keras.layers.Conv2D(256, (11,11),strides=1, padding='valid', activation='relu'),\n",
        "    tf.keras.layers.MaxPooling2D((2, 2), strides=(2,2),padding='valid'),\n",
        "    tf.keras.layers.BatchNormalization(),\n",
        "    tf.keras.layers.Conv2D(384, (3,3),strides=1, padding='valid', activation='relu'),\n",
        "    tf.keras.layers.BatchNormalization(),\n",
        "    tf.keras.layers.Conv2D(384, (3,3),strides=1, padding='valid', activation='relu'),\n",
        "    tf.keras.layers.BatchNormalization(),\n",
        "    tf.keras.layers.Conv2D(256, (3,3),strides=1, padding='valid', activation='relu'),\n",
        "    tf.keras.layers.MaxPooling2D((2, 2), strides=(2,2),padding='valid'),\n",
        "    tf.keras.layers.BatchNormalization(),\n",
        "    tf.keras.layers.Flatten(),\n",
        "    tf.keras.layers.Dense(4096, activation='relu'),\n",
        "    tf.keras.layers.Dropout(0.5),\n",
        "    tf.keras.layers.BatchNormalization(),\n",
        "    tf.keras.layers.Dense(4096, activation='relu'),\n",
        "    tf.keras.layers.Dropout(0.5),\n",
        "    tf.keras.layers.BatchNormalization(),\n",
        "    tf.keras.layers.Dense(1000, activation='relu'),\n",
        "    tf.keras.layers.Dropout(0.5),\n",
        "    tf.keras.layers.BatchNormalization(),\n",
        "    tf.keras.layers.Dense(6, activation='sigmoid')\n",
        "    ])\n"
      ],
      "execution_count": 0,
      "outputs": []
    },
    {
      "cell_type": "markdown",
      "metadata": {
        "id": "Nh1w6AYKhoGp",
        "colab_type": "text"
      },
      "source": [
        "###Prepare images with ImageDataGenerator\n",
        "\n",
        "For this model I also added data augmentation as it helps to avoid overfitting based on previous experiment. Image size was changed to 224X224 as per original AlexNet."
      ]
    },
    {
      "cell_type": "code",
      "metadata": {
        "id": "26xi384Nf6X0",
        "colab_type": "code",
        "outputId": "fcf0e136-f900-4003-8530-f90423fda6db",
        "colab": {
          "base_uri": "https://localhost:8080/",
          "height": 52
        }
      },
      "source": [
        "train_datagen = ImageDataGenerator(\n",
        "      rescale=1./255,\n",
        "      rotation_range=40,\n",
        "      width_shift_range=0.2,\n",
        "      height_shift_range=0.2,\n",
        "      shear_range=0.2,\n",
        "      zoom_range=0.2,\n",
        "      horizontal_flip=True,\n",
        "      fill_mode='nearest')\n",
        "\n",
        "test_datagen = ImageDataGenerator(rescale=1./255)\n",
        "\n",
        "train_generator = train_datagen.flow_from_directory(\n",
        "        train_dir, \n",
        "        target_size=(224, 224), \n",
        "        batch_size=20,\n",
        "        class_mode='sparse')\n",
        "\n",
        "validation_generator = test_datagen.flow_from_directory(\n",
        "        validation_dir,\n",
        "        target_size=(224, 224),\n",
        "        batch_size=20,\n",
        "        class_mode='sparse')"
      ],
      "execution_count": 31,
      "outputs": [
        {
          "output_type": "stream",
          "text": [
            "Found 14042 images belonging to 6 classes.\n",
            "Found 3000 images belonging to 6 classes.\n"
          ],
          "name": "stdout"
        }
      ]
    },
    {
      "cell_type": "code",
      "metadata": {
        "id": "qc00TnuYgDtx",
        "colab_type": "code",
        "colab": {}
      },
      "source": [
        "model3.compile(loss='sparse_categorical_crossentropy',\n",
        "              optimizer=RMSprop(lr=1e-4),\n",
        "              metrics=['acc'])"
      ],
      "execution_count": 0,
      "outputs": []
    },
    {
      "cell_type": "code",
      "metadata": {
        "id": "s3yaOraXgIxA",
        "colab_type": "code",
        "outputId": "ee6660f0-c6aa-40d9-e52f-515316d9a740",
        "colab": {
          "base_uri": "https://localhost:8080/",
          "height": 3572
        }
      },
      "source": [
        "history3 = model3.fit_generator(\n",
        "      train_generator,\n",
        "      steps_per_epoch=100, \n",
        "      epochs=100,\n",
        "      validation_data=validation_generator,\n",
        "      validation_steps=10, \n",
        "      verbose=2)"
      ],
      "execution_count": 34,
      "outputs": [
        {
          "output_type": "stream",
          "text": [
            "Epoch 1/100\n",
            "100/100 - 51s - loss: 1.6655 - acc: 0.3270 - val_loss: 1.7679 - val_acc: 0.2000\n",
            "Epoch 2/100\n",
            "100/100 - 26s - loss: 1.4934 - acc: 0.4090 - val_loss: 1.7019 - val_acc: 0.2200\n",
            "Epoch 3/100\n",
            "100/100 - 29s - loss: 1.4222 - acc: 0.4450 - val_loss: 1.6548 - val_acc: 0.3400\n",
            "Epoch 4/100\n",
            "100/100 - 29s - loss: 1.4152 - acc: 0.4350 - val_loss: 1.5150 - val_acc: 0.4000\n",
            "Epoch 5/100\n",
            "100/100 - 28s - loss: 1.4043 - acc: 0.4551 - val_loss: 1.3348 - val_acc: 0.5350\n",
            "Epoch 6/100\n",
            "100/100 - 29s - loss: 1.3337 - acc: 0.4830 - val_loss: 1.1514 - val_acc: 0.5550\n",
            "Epoch 7/100\n",
            "100/100 - 29s - loss: 1.3770 - acc: 0.4705 - val_loss: 2.8171 - val_acc: 0.3900\n",
            "Epoch 8/100\n",
            "100/100 - 29s - loss: 1.3787 - acc: 0.5055 - val_loss: 2.7167 - val_acc: 0.4200\n",
            "Epoch 9/100\n",
            "100/100 - 29s - loss: 1.3790 - acc: 0.4740 - val_loss: 7.2828 - val_acc: 0.2350\n",
            "Epoch 10/100\n",
            "100/100 - 28s - loss: 1.3656 - acc: 0.5090 - val_loss: 1.6930 - val_acc: 0.5300\n",
            "Epoch 11/100\n",
            "100/100 - 29s - loss: 1.3743 - acc: 0.5090 - val_loss: 1.7175 - val_acc: 0.5450\n",
            "Epoch 12/100\n",
            "100/100 - 28s - loss: 1.2724 - acc: 0.5215 - val_loss: 3.4148 - val_acc: 0.4450\n",
            "Epoch 13/100\n",
            "100/100 - 29s - loss: 1.2986 - acc: 0.5140 - val_loss: 6.7440 - val_acc: 0.2850\n",
            "Epoch 14/100\n",
            "100/100 - 28s - loss: 1.2505 - acc: 0.5449 - val_loss: 2.0528 - val_acc: 0.5350\n",
            "Epoch 15/100\n",
            "100/100 - 29s - loss: 1.2718 - acc: 0.5265 - val_loss: 2.1921 - val_acc: 0.5950\n",
            "Epoch 16/100\n",
            "100/100 - 29s - loss: 1.2708 - acc: 0.5450 - val_loss: 2.2731 - val_acc: 0.4800\n",
            "Epoch 17/100\n",
            "100/100 - 29s - loss: 1.2805 - acc: 0.5280 - val_loss: 2.5643 - val_acc: 0.4850\n",
            "Epoch 18/100\n",
            "100/100 - 29s - loss: 1.2885 - acc: 0.5450 - val_loss: 2.5795 - val_acc: 0.5500\n",
            "Epoch 19/100\n",
            "100/100 - 29s - loss: 1.3060 - acc: 0.5180 - val_loss: 2.7944 - val_acc: 0.3900\n",
            "Epoch 20/100\n",
            "100/100 - 28s - loss: 1.1996 - acc: 0.5700 - val_loss: 2.5182 - val_acc: 0.5550\n",
            "Epoch 21/100\n",
            "100/100 - 28s - loss: 1.2543 - acc: 0.5479 - val_loss: 7.3999 - val_acc: 0.2100\n",
            "Epoch 22/100\n",
            "100/100 - 28s - loss: 1.2454 - acc: 0.5585 - val_loss: 1.3994 - val_acc: 0.6450\n",
            "Epoch 23/100\n",
            "100/100 - 28s - loss: 1.1795 - acc: 0.5696 - val_loss: 2.7203 - val_acc: 0.4550\n",
            "Epoch 24/100\n",
            "100/100 - 29s - loss: 1.2343 - acc: 0.5640 - val_loss: 1.5520 - val_acc: 0.5450\n",
            "Epoch 25/100\n",
            "100/100 - 28s - loss: 1.2239 - acc: 0.5560 - val_loss: 1.5850 - val_acc: 0.6000\n",
            "Epoch 26/100\n",
            "100/100 - 29s - loss: 1.2161 - acc: 0.5535 - val_loss: 2.4186 - val_acc: 0.5650\n",
            "Epoch 27/100\n",
            "100/100 - 28s - loss: 1.1628 - acc: 0.5720 - val_loss: 1.7840 - val_acc: 0.6150\n",
            "Epoch 28/100\n",
            "100/100 - 29s - loss: 1.2226 - acc: 0.5920 - val_loss: 2.0946 - val_acc: 0.5400\n",
            "Epoch 29/100\n",
            "100/100 - 29s - loss: 1.1780 - acc: 0.5830 - val_loss: 1.7837 - val_acc: 0.5950\n",
            "Epoch 30/100\n",
            "100/100 - 29s - loss: 1.1628 - acc: 0.5885 - val_loss: 1.2907 - val_acc: 0.6100\n",
            "Epoch 31/100\n",
            "100/100 - 29s - loss: 1.2126 - acc: 0.5790 - val_loss: 1.3450 - val_acc: 0.6050\n",
            "Epoch 32/100\n",
            "100/100 - 29s - loss: 1.2079 - acc: 0.5795 - val_loss: 1.3860 - val_acc: 0.6800\n",
            "Epoch 33/100\n",
            "100/100 - 28s - loss: 1.1997 - acc: 0.5820 - val_loss: 1.5871 - val_acc: 0.6300\n",
            "Epoch 34/100\n",
            "100/100 - 29s - loss: 1.1604 - acc: 0.5888 - val_loss: 2.1611 - val_acc: 0.3100\n",
            "Epoch 35/100\n",
            "100/100 - 29s - loss: 1.2056 - acc: 0.6030 - val_loss: 1.2836 - val_acc: 0.5300\n",
            "Epoch 36/100\n",
            "100/100 - 29s - loss: 1.1402 - acc: 0.5930 - val_loss: 1.4293 - val_acc: 0.6450\n",
            "Epoch 37/100\n",
            "100/100 - 29s - loss: 1.1891 - acc: 0.5765 - val_loss: 1.6425 - val_acc: 0.5550\n",
            "Epoch 38/100\n",
            "100/100 - 29s - loss: 1.1488 - acc: 0.6015 - val_loss: 2.4389 - val_acc: 0.5900\n",
            "Epoch 39/100\n",
            "100/100 - 29s - loss: 1.1900 - acc: 0.5810 - val_loss: 1.2019 - val_acc: 0.6000\n",
            "Epoch 40/100\n",
            "100/100 - 29s - loss: 1.1848 - acc: 0.5750 - val_loss: 1.2072 - val_acc: 0.6150\n",
            "Epoch 41/100\n",
            "100/100 - 28s - loss: 1.1439 - acc: 0.6054 - val_loss: 1.4420 - val_acc: 0.5700\n",
            "Epoch 42/100\n",
            "100/100 - 29s - loss: 1.1922 - acc: 0.6010 - val_loss: 2.2875 - val_acc: 0.4100\n",
            "Epoch 43/100\n",
            "100/100 - 29s - loss: 1.1611 - acc: 0.5900 - val_loss: 2.3764 - val_acc: 0.4650\n",
            "Epoch 44/100\n",
            "100/100 - 29s - loss: 1.1727 - acc: 0.5950 - val_loss: 2.7535 - val_acc: 0.4100\n",
            "Epoch 45/100\n",
            "100/100 - 28s - loss: 1.1633 - acc: 0.5905 - val_loss: 2.4528 - val_acc: 0.5150\n",
            "Epoch 46/100\n",
            "100/100 - 29s - loss: 1.1483 - acc: 0.6095 - val_loss: 1.6159 - val_acc: 0.5400\n",
            "Epoch 47/100\n",
            "100/100 - 29s - loss: 1.1333 - acc: 0.5955 - val_loss: 0.9229 - val_acc: 0.6600\n",
            "Epoch 48/100\n",
            "100/100 - 28s - loss: 1.1306 - acc: 0.5989 - val_loss: 3.2220 - val_acc: 0.5500\n",
            "Epoch 49/100\n",
            "100/100 - 29s - loss: 1.1400 - acc: 0.5990 - val_loss: 1.9698 - val_acc: 0.5950\n",
            "Epoch 50/100\n",
            "100/100 - 29s - loss: 1.1350 - acc: 0.6055 - val_loss: 1.5588 - val_acc: 0.5150\n",
            "Epoch 51/100\n",
            "100/100 - 29s - loss: 1.1642 - acc: 0.5845 - val_loss: 1.9567 - val_acc: 0.5650\n",
            "Epoch 52/100\n",
            "100/100 - 29s - loss: 1.1131 - acc: 0.6160 - val_loss: 2.2721 - val_acc: 0.5650\n",
            "Epoch 53/100\n",
            "100/100 - 29s - loss: 1.1358 - acc: 0.5855 - val_loss: 1.3166 - val_acc: 0.6750\n",
            "Epoch 54/100\n",
            "100/100 - 29s - loss: 1.1705 - acc: 0.5975 - val_loss: 2.0676 - val_acc: 0.4900\n",
            "Epoch 55/100\n",
            "100/100 - 29s - loss: 1.1943 - acc: 0.5782 - val_loss: 1.4825 - val_acc: 0.5700\n",
            "Epoch 56/100\n",
            "100/100 - 29s - loss: 1.1287 - acc: 0.6155 - val_loss: 1.8223 - val_acc: 0.5750\n",
            "Epoch 57/100\n",
            "100/100 - 29s - loss: 1.1913 - acc: 0.5870 - val_loss: 1.5822 - val_acc: 0.4750\n",
            "Epoch 58/100\n",
            "100/100 - 28s - loss: 1.1756 - acc: 0.6014 - val_loss: 1.6665 - val_acc: 0.3450\n",
            "Epoch 59/100\n",
            "100/100 - 29s - loss: 1.1160 - acc: 0.6160 - val_loss: 0.9923 - val_acc: 0.6200\n",
            "Epoch 60/100\n",
            "100/100 - 29s - loss: 1.1938 - acc: 0.5785 - val_loss: 1.1556 - val_acc: 0.6650\n",
            "Epoch 61/100\n",
            "100/100 - 29s - loss: 1.1472 - acc: 0.6180 - val_loss: 1.8652 - val_acc: 0.5700\n",
            "Epoch 62/100\n",
            "100/100 - 30s - loss: 1.1274 - acc: 0.6005 - val_loss: 1.9050 - val_acc: 0.5100\n",
            "Epoch 63/100\n",
            "100/100 - 30s - loss: 1.1236 - acc: 0.6180 - val_loss: 1.1522 - val_acc: 0.6400\n",
            "Epoch 64/100\n",
            "100/100 - 29s - loss: 1.1021 - acc: 0.6115 - val_loss: 1.2491 - val_acc: 0.6700\n",
            "Epoch 65/100\n",
            "100/100 - 30s - loss: 1.1770 - acc: 0.5945 - val_loss: 2.7114 - val_acc: 0.5450\n",
            "Epoch 66/100\n",
            "100/100 - 30s - loss: 1.1691 - acc: 0.6110 - val_loss: 1.1355 - val_acc: 0.7300\n",
            "Epoch 67/100\n",
            "100/100 - 29s - loss: 1.1497 - acc: 0.6125 - val_loss: 1.4301 - val_acc: 0.6200\n",
            "Epoch 68/100\n",
            "100/100 - 29s - loss: 1.1324 - acc: 0.6035 - val_loss: 3.4198 - val_acc: 0.5050\n",
            "Epoch 69/100\n",
            "100/100 - 29s - loss: 1.1550 - acc: 0.5850 - val_loss: 1.2698 - val_acc: 0.6150\n",
            "Epoch 70/100\n",
            "100/100 - 29s - loss: 1.1690 - acc: 0.6015 - val_loss: 1.6305 - val_acc: 0.6550\n",
            "Epoch 71/100\n",
            "100/100 - 30s - loss: 1.1570 - acc: 0.5990 - val_loss: 2.8710 - val_acc: 0.5350\n",
            "Epoch 72/100\n",
            "100/100 - 30s - loss: 1.1250 - acc: 0.6251 - val_loss: 1.6863 - val_acc: 0.5650\n",
            "Epoch 73/100\n",
            "100/100 - 30s - loss: 1.1510 - acc: 0.6080 - val_loss: 1.3025 - val_acc: 0.6400\n",
            "Epoch 74/100\n",
            "100/100 - 30s - loss: 1.1876 - acc: 0.6085 - val_loss: 1.2501 - val_acc: 0.6450\n",
            "Epoch 75/100\n",
            "100/100 - 30s - loss: 1.1687 - acc: 0.6010 - val_loss: 1.1832 - val_acc: 0.6550\n",
            "Epoch 76/100\n",
            "100/100 - 30s - loss: 1.1536 - acc: 0.6205 - val_loss: 2.1810 - val_acc: 0.5850\n",
            "Epoch 77/100\n",
            "100/100 - 30s - loss: 1.1671 - acc: 0.6050 - val_loss: 1.8062 - val_acc: 0.6050\n",
            "Epoch 78/100\n",
            "100/100 - 30s - loss: 1.1506 - acc: 0.6095 - val_loss: 1.3745 - val_acc: 0.5350\n",
            "Epoch 79/100\n",
            "100/100 - 30s - loss: 1.1194 - acc: 0.6065 - val_loss: 1.8809 - val_acc: 0.3900\n",
            "Epoch 80/100\n",
            "100/100 - 30s - loss: 1.1628 - acc: 0.5995 - val_loss: 1.4139 - val_acc: 0.5700\n",
            "Epoch 81/100\n",
            "100/100 - 30s - loss: 1.2215 - acc: 0.5955 - val_loss: 1.2800 - val_acc: 0.6450\n",
            "Epoch 82/100\n",
            "100/100 - 30s - loss: 1.1664 - acc: 0.5880 - val_loss: 1.2088 - val_acc: 0.5650\n",
            "Epoch 83/100\n",
            "100/100 - 30s - loss: 1.1432 - acc: 0.6055 - val_loss: 1.5953 - val_acc: 0.5700\n",
            "Epoch 84/100\n",
            "100/100 - 30s - loss: 1.1084 - acc: 0.6370 - val_loss: 2.0496 - val_acc: 0.5450\n",
            "Epoch 85/100\n",
            "100/100 - 29s - loss: 1.1952 - acc: 0.6075 - val_loss: 1.1377 - val_acc: 0.6450\n",
            "Epoch 86/100\n",
            "100/100 - 29s - loss: 1.1529 - acc: 0.5915 - val_loss: 2.1156 - val_acc: 0.5300\n",
            "Epoch 87/100\n",
            "100/100 - 30s - loss: 1.1485 - acc: 0.6185 - val_loss: 1.2492 - val_acc: 0.6700\n",
            "Epoch 88/100\n",
            "100/100 - 30s - loss: 1.1209 - acc: 0.6160 - val_loss: 1.5057 - val_acc: 0.4200\n",
            "Epoch 89/100\n",
            "100/100 - 30s - loss: 1.1647 - acc: 0.6190 - val_loss: 3.0080 - val_acc: 0.4950\n",
            "Epoch 90/100\n",
            "100/100 - 30s - loss: 1.1509 - acc: 0.6075 - val_loss: 1.6700 - val_acc: 0.6050\n",
            "Epoch 91/100\n",
            "100/100 - 30s - loss: 1.0898 - acc: 0.6410 - val_loss: 1.0906 - val_acc: 0.7300\n",
            "Epoch 92/100\n",
            "100/100 - 30s - loss: 1.1542 - acc: 0.6150 - val_loss: 1.2319 - val_acc: 0.6300\n",
            "Epoch 93/100\n",
            "100/100 - 30s - loss: 1.1388 - acc: 0.6180 - val_loss: 1.7884 - val_acc: 0.6250\n",
            "Epoch 94/100\n",
            "100/100 - 30s - loss: 1.1425 - acc: 0.6320 - val_loss: 1.4007 - val_acc: 0.6300\n",
            "Epoch 95/100\n",
            "100/100 - 30s - loss: 1.0752 - acc: 0.6400 - val_loss: 1.5310 - val_acc: 0.4800\n",
            "Epoch 96/100\n",
            "100/100 - 30s - loss: 1.1625 - acc: 0.6190 - val_loss: 2.1160 - val_acc: 0.4850\n",
            "Epoch 97/100\n",
            "100/100 - 30s - loss: 1.1507 - acc: 0.6423 - val_loss: 2.8515 - val_acc: 0.5150\n",
            "Epoch 98/100\n",
            "100/100 - 30s - loss: 1.1946 - acc: 0.6385 - val_loss: 1.3440 - val_acc: 0.6100\n",
            "Epoch 99/100\n",
            "100/100 - 30s - loss: 1.1210 - acc: 0.6375 - val_loss: 1.3292 - val_acc: 0.6200\n",
            "Epoch 100/100\n",
            "100/100 - 30s - loss: 1.1601 - acc: 0.6468 - val_loss: 1.1840 - val_acc: 0.7150\n"
          ],
          "name": "stdout"
        }
      ]
    },
    {
      "cell_type": "markdown",
      "metadata": {
        "id": "F7bUzpSsQKZH",
        "colab_type": "text"
      },
      "source": [
        "## Result 3.\n",
        "The result above is after 100 epochs. Final accuracy is 64% on training and 71 on validation dataset.\n",
        "\n",
        "Below is the comparison of accuracy and loss change during 100 epochs of training on training and validation datasets. We see that accuracy goes up and loss goes down but very slow. Many fluctations on the way.\n",
        "\n",
        "My assumption is that accuracy can be low due to original size of images - 150X150. We had to increase them to 224X224 that could result in bad quality. Further experiments would help but due to limited time I didn`t make many experiments with hyperparameters on this model."
      ]
    },
    {
      "cell_type": "markdown",
      "metadata": {
        "id": "FtwZdXWoQZZb",
        "colab_type": "text"
      },
      "source": [
        "### Visualization of result 3"
      ]
    },
    {
      "cell_type": "code",
      "metadata": {
        "id": "1tVAS8-fgOqA",
        "colab_type": "code",
        "outputId": "c1223cab-e8c3-4950-bbc8-c6048669b87d",
        "colab": {
          "base_uri": "https://localhost:8080/",
          "height": 544
        }
      },
      "source": [
        "import matplotlib.pyplot as plt\n",
        "acc = history3.history['acc']\n",
        "val_acc = history3.history['val_acc']\n",
        "loss = history3.history['loss']\n",
        "val_loss = history3.history['val_loss']\n",
        "\n",
        "epochs = range(len(acc))\n",
        "\n",
        "plt.plot(epochs, acc, 'bo', label='Training accuracy')\n",
        "plt.plot(epochs, val_acc, 'b', label='Validation accuracy')\n",
        "plt.title('Training and validation accuracy')\n",
        "\n",
        "plt.figure()\n",
        "\n",
        "plt.plot(epochs, loss, 'bo', label='Training Loss')\n",
        "plt.plot(epochs, val_loss, 'b', label='Validation Loss')\n",
        "plt.title('Training and validation loss')\n",
        "plt.legend()\n",
        "\n",
        "plt.show()"
      ],
      "execution_count": 35,
      "outputs": [
        {
          "output_type": "display_data",
          "data": {
            "image/png": "[encoded data removed]",
            "text/plain": [
              "<Figure size 432x288 with 1 Axes>"
            ]
          },
          "metadata": {
            "tags": []
          }
        },
        {
          "output_type": "display_data",
          "data": {
            "image/png": "[encoded data removed]",
            "text/plain": [
              "<Figure size 432x288 with 1 Axes>"
            ]
          },
          "metadata": {
            "tags": []
          }
        }
      ]
    },
    {
      "cell_type": "markdown",
      "metadata": {
        "id": "uZB4olwsRsa7",
        "colab_type": "text"
      },
      "source": [
        "##4. Resnet 50\n",
        "\n",
        "As a final experiment I used pretrained model available on keras, just to see how we can use transfer learning easily to solve tasks like image recognition."
      ]
    },
    {
      "cell_type": "code",
      "metadata": {
        "id": "FtnI-tj4emF8",
        "colab_type": "code",
        "outputId": "ee088203-6f64-44f1-cca1-f969b79c77b7",
        "colab": {
          "base_uri": "https://localhost:8080/",
          "height": 338
        }
      },
      "source": [
        "from keras.applications.resnet50 import ResNet50\n",
        "from keras.preprocessing import image\n",
        "from keras.applications.resnet50 import preprocess_input, decode_predictions\n",
        "import numpy as np\n",
        "\n",
        "# Load the ResNet50 model with pretrained weights\n",
        "model = ResNet50(weights='imagenet')"
      ],
      "execution_count": 36,
      "outputs": [
        {
          "output_type": "stream",
          "text": [
            "WARNING:tensorflow:From /usr/local/lib/python3.6/dist-packages/keras/backend/tensorflow_backend.py:66: The name tf.get_default_graph is deprecated. Please use tf.compat.v1.get_default_graph instead.\n",
            "\n",
            "WARNING:tensorflow:From /usr/local/lib/python3.6/dist-packages/keras/backend/tensorflow_backend.py:541: The name tf.placeholder is deprecated. Please use tf.compat.v1.placeholder instead.\n",
            "\n",
            "WARNING:tensorflow:From /usr/local/lib/python3.6/dist-packages/keras/backend/tensorflow_backend.py:4479: The name tf.truncated_normal is deprecated. Please use tf.random.truncated_normal instead.\n",
            "\n",
            "WARNING:tensorflow:From /usr/local/lib/python3.6/dist-packages/keras/backend/tensorflow_backend.py:190: The name tf.get_default_session is deprecated. Please use tf.compat.v1.get_default_session instead.\n",
            "\n",
            "WARNING:tensorflow:From /usr/local/lib/python3.6/dist-packages/keras/backend/tensorflow_backend.py:197: The name tf.ConfigProto is deprecated. Please use tf.compat.v1.ConfigProto instead.\n",
            "\n"
          ],
          "name": "stdout"
        },
        {
          "output_type": "stream",
          "text": [
            "Using TensorFlow backend.\n"
          ],
          "name": "stderr"
        },
        {
          "output_type": "stream",
          "text": [
            "WARNING:tensorflow:From /usr/local/lib/python3.6/dist-packages/keras/backend/tensorflow_backend.py:2041: The name tf.nn.fused_batch_norm is deprecated. Please use tf.compat.v1.nn.fused_batch_norm instead.\n",
            "\n",
            "WARNING:tensorflow:From /usr/local/lib/python3.6/dist-packages/keras/backend/tensorflow_backend.py:4267: The name tf.nn.max_pool is deprecated. Please use tf.nn.max_pool2d instead.\n",
            "\n",
            "Downloading data from https://github.com/fchollet/deep-learning-models/releases/download/v0.2/resnet50_weights_tf_dim_ordering_tf_kernels.h5\n",
            "102858752/102853048 [==============================] - 4s 0us/step\n"
          ],
          "name": "stdout"
        }
      ]
    },
    {
      "cell_type": "code",
      "metadata": {
        "id": "vJ266Pkmf2bT",
        "colab_type": "code",
        "outputId": "97a0a725-f494-4ba8-ae02-40a52f59ce09",
        "colab": {
          "base_uri": "https://localhost:8080/",
          "height": 286
        }
      },
      "source": [
        "img_path = '/content/gdrive/My Drive/ML_Assignment2/ML_Intel_Image_Dataset/seg_test/forest/20100.jpg'\n",
        "img = image.load_img(img_path, target_size=(224, 224))\n",
        "plt.imshow(img)\n",
        "x = image.img_to_array(img)\n",
        "x = np.expand_dims(x, axis=0)\n",
        "x = preprocess_input(x)\n",
        "\n",
        "features = model.predict(x)\n",
        "preds = model.predict(x)\n",
        "print('Predicted:', decode_predictions(preds, top=3)[0])"
      ],
      "execution_count": 42,
      "outputs": [
        {
          "output_type": "stream",
          "text": [
            "Predicted: [('n03457902', 'greenhouse', 0.23197414), ('n04371774', 'swing', 0.07925064), ('n03733281', 'maze', 0.044427656)]\n"
          ],
          "name": "stdout"
        },
        {
          "output_type": "display_data",
          "data": {
            "image/png": "[encoded data removed]",
            "text/plain": [
              "<Figure size 432x288 with 1 Axes>"
            ]
          },
          "metadata": {
            "tags": []
          }
        }
      ]
    },
    {
      "cell_type": "markdown",
      "metadata": {
        "id": "do2JZQxCTGyc",
        "colab_type": "text"
      },
      "source": [
        "We can see that it can predict more narrow categories."
      ]
    },
    {
      "cell_type": "markdown",
      "metadata": {
        "id": "5LzLT4NdTayV",
        "colab_type": "text"
      },
      "source": [
        "## Conclusion\n",
        "\n",
        "I believe quite good results were achieved in my experiments but of course they can be improved with further experimentation and deeper knowledge of structure of Neural Networks. Maximum accuracy on training dataset 92% and 85% on validation dataset. Model 2 showed best result from stability perspective, so if continue training it could perform better."
      ]
    },
    {
      "cell_type": "markdown",
      "metadata": {
        "id": "zTU-3KuGbM3T",
        "colab_type": "text"
      },
      "source": [
        "##Ethical issues\n",
        "\n",
        "Every new technology is starting the conversation about ethics. From ethical perspective the question of Computer Vision is not obvious. From 1 perspective it may be scary if we enable cameras to control every our step, analyze pictures and learn further from it. But this opportunity also gives us so many benefits:\n",
        "\n",
        "-ability to avoid human mistakes – such as finding defects or medical diagnostics\n",
        "\n",
        "-feel us more safe if some reaction is provided to potential danger – shark spotting, security cameras.\n",
        "\n",
        "Problems could be:\n",
        "\n",
        "-loss of jobs for some groups of people – for example in cases when cashiers are replaced by self-checkouts\n",
        "\n",
        "-using of our data against us – as security cameras are monitored by people at the end we need to be confident in people involved.\n",
        "\n",
        "This question is not easy to discuss in a few words and impossible to resolve entirely. We just have to take our own responsibility to people when we do our job and have access to some personal information. And also try to use technology for better only in the fields where human brain cannot perform very well or tends to make mistakes.\n"
      ]
    }
  ]
}