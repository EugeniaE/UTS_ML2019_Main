{
  "nbformat": 4,
  "nbformat_minor": 0,
  "metadata": {
    "colab": {
      "name": "As2_image_classification.ipynb",
      "provenance": [],
      "collapsed_sections": [],
      "toc_visible": true,
      "include_colab_link": true
    },
    "language_info": {
      "codemirror_mode": {
        "name": "ipython",
        "version": 3
      },
      "file_extension": ".py",
      "mimetype": "text/x-python",
      "name": "python",
      "nbconvert_exporter": "python",
      "pygments_lexer": "ipython3",
      "version": "3.5.2"
    },
    "kernelspec": {
      "name": "python3",
      "display_name": "Python 3"
    },
    "accelerator": "GPU"
  },
  "cells": [
    {
      "cell_type": "markdown",
      "metadata": {
        "id": "view-in-github",
        "colab_type": "text"
      },
      "source": [
        "<a href=\"https://colab.research.google.com/github/EugeniaE/UTS_ML2019_Main/blob/master/As2_image_classification.ipynb\" target=\"_parent\"><img src=\"https://colab.research.google.com/assets/colab-badge.svg\" alt=\"Open In Colab\"/></a>"
      ]
    },
    {
      "cell_type": "markdown",
      "metadata": {
        "colab_type": "text",
        "deletable": true,
        "editable": true,
        "id": "lLT7e7X8Qv2q"
      },
      "source": [
        "##Multiclass image classification problem using Neural Networks\n",
        "\n",
        "Dataset was taken in Kaggle: \n",
        "https://www.kaggle.com/puneet6060/intel-image-classification"
      ]
    },
    {
      "cell_type": "markdown",
      "metadata": {
        "colab_type": "text",
        "deletable": true,
        "editable": true,
        "id": "ZG24TIGxUtht"
      },
      "source": [
        "### Import required packages"
      ]
    },
    {
      "cell_type": "code",
      "metadata": {
        "colab_type": "code",
        "deletable": true,
        "editable": true,
        "id": "Da7NhutTB9B5",
        "colab": {}
      },
      "source": [
        "import numpy as np\n",
        "import matplotlib.pyplot as plt\n",
        "import cv2"
      ],
      "execution_count": 0,
      "outputs": []
    },
    {
      "cell_type": "code",
      "metadata": {
        "id": "jGNaw5RLTKYP",
        "colab_type": "code",
        "outputId": "45c7ddba-cf17-4286-d317-f02ceaebcbae",
        "colab": {
          "base_uri": "https://localhost:8080/",
          "height": 125
        }
      },
      "source": [
        "from google.colab import drive\n",
        "drive.mount('/content/gdrive')"
      ],
      "execution_count": 4,
      "outputs": [
        {
          "output_type": "stream",
          "text": [
            "Go to this URL in a browser: https://accounts.google.com/o/oauth2/auth?client_id=947318989803-6bn6qk8qdgf4n4g3pfee6491hc0brc4i.apps.googleusercontent.com&redirect_uri=urn%3Aietf%3Awg%3Aoauth%3A2.0%3Aoob&scope=email%20https%3A%2F%2Fwww.googleapis.com%2Fauth%2Fdocs.test%20https%3A%2F%2Fwww.googleapis.com%2Fauth%2Fdrive%20https%3A%2F%2Fwww.googleapis.com%2Fauth%2Fdrive.photos.readonly%20https%3A%2F%2Fwww.googleapis.com%2Fauth%2Fpeopleapi.readonly&response_type=code\n",
            "\n",
            "Enter your authorization code:\n",
            "··········\n",
            "Mounted at /content/gdrive\n"
          ],
          "name": "stdout"
        }
      ]
    },
    {
      "cell_type": "code",
      "metadata": {
        "id": "A72752vW2swU",
        "colab_type": "code",
        "colab": {}
      },
      "source": [
        "import os\n",
        "\n",
        "base_dir = '/content/gdrive/My Drive/ML_Assignment2/ML_Intel_Image_Dataset'\n",
        "train_dir = os.path.join(base_dir, 'seg_train')\n",
        "validation_dir = os.path.join(base_dir, 'seg_test')\n",
        "\n",
        "# Directory with our training building pictures\n",
        "train_bld_dir = os.path.join(train_dir, 'buildings')\n",
        "# Directory with our training forest pictures\n",
        "train_for_dir = os.path.join(train_dir, 'forest')\n",
        "# Directory with our training glasier pictures\n",
        "train_glc_dir = os.path.join(train_dir, 'glacier')\n",
        "# Directory with our training mountain pictures\n",
        "train_mnt_dir = os.path.join(train_dir, 'mountain')\n",
        "# Directory with our training sea pictures\n",
        "train_sea_dir = os.path.join(train_dir, 'sea')\n",
        "# Directory with our training street pictures\n",
        "train_str_dir = os.path.join(train_dir, 'street')\n",
        "\n",
        "# Directory with our training building pictures\n",
        "validation_bld_dir = os.path.join(validation_dir, 'buildings')\n",
        "# Directory with our training forest pictures\n",
        "validation_for_dir = os.path.join(validation_dir, 'forest')\n",
        "# Directory with our training glacier pictures\n",
        "validation_glc_dir = os.path.join(validation_dir, 'glacier')\n",
        "# Directory with our training mountain pictures\n",
        "validation_mnt_dir = os.path.join(validation_dir, 'mountain')\n",
        "# Directory with our training sea pictures\n",
        "validation_sea_dir = os.path.join(validation_dir, 'sea')\n",
        "# Directory with our training street pictures\n",
        "validation_str_dir = os.path.join(validation_dir, 'street')"
      ],
      "execution_count": 0,
      "outputs": []
    },
    {
      "cell_type": "markdown",
      "metadata": {
        "id": "dNy3fjCRZRAM",
        "colab_type": "text"
      },
      "source": [
        "##CNN Model"
      ]
    },
    {
      "cell_type": "code",
      "metadata": {
        "id": "L9N5Z0F3HUqa",
        "colab_type": "code",
        "colab": {
          "base_uri": "https://localhost:8080/",
          "height": 90
        },
        "outputId": "2b91d0c9-3435-4b02-a000-740c65bd59f7"
      },
      "source": [
        "import tensorflow as tf\n",
        "from tensorflow.keras.optimizers import RMSprop\n",
        "from tensorflow.keras.preprocessing.image import ImageDataGenerator\n",
        "\n",
        "model = tf.keras.models.Sequential([\n",
        "  tf.keras.layers.Conv2D(32, (3,3), activation='relu', input_shape=(150, 150, 3)),\n",
        "  tf.keras.layers.MaxPooling2D(2,2),\n",
        "  tf.keras.layers.Conv2D(64, (3,3), activation='relu'),\n",
        "  tf.keras.layers.MaxPooling2D(2,2),\n",
        "  tf.keras.layers.Conv2D(128, (3,3), activation='relu'),\n",
        "  tf.keras.layers.MaxPooling2D(2,2),\n",
        "  tf.keras.layers.Conv2D(128, (3,3), activation='relu'),\n",
        "  tf.keras.layers.MaxPooling2D(2,2),\n",
        "  tf.keras.layers.Flatten(),\n",
        "  tf.keras.layers.Dense(512,activation='relu'),\n",
        "  tf.keras.layers.Dense(6,activation='sigmoid'), \n",
        "])"
      ],
      "execution_count": 7,
      "outputs": [
        {
          "output_type": "stream",
          "text": [
            "WARNING:tensorflow:From /usr/local/lib/python3.6/dist-packages/tensorflow/python/ops/init_ops.py:1251: calling VarianceScaling.__init__ (from tensorflow.python.ops.init_ops) with dtype is deprecated and will be removed in a future version.\n",
            "Instructions for updating:\n",
            "Call initializer instance with the dtype argument instead of passing it to the constructor\n"
          ],
          "name": "stdout"
        }
      ]
    },
    {
      "cell_type": "code",
      "metadata": {
        "id": "QwECtzz3HePk",
        "colab_type": "code",
        "colab": {}
      },
      "source": [
        "model.compile(loss='sparse_categorical_crossentropy',\n",
        "              optimizer=RMSprop(lr=1e-4),\n",
        "              metrics=['acc'])"
      ],
      "execution_count": 0,
      "outputs": []
    },
    {
      "cell_type": "code",
      "metadata": {
        "id": "AuNME69nZmhJ",
        "colab_type": "code",
        "colab": {}
      },
      "source": [
        ""
      ],
      "execution_count": 0,
      "outputs": []
    },
    {
      "cell_type": "markdown",
      "metadata": {
        "id": "JcqSRTirZpkg",
        "colab_type": "text"
      },
      "source": [
        "##Prepare images with ImageDataGenerator"
      ]
    },
    {
      "cell_type": "code",
      "metadata": {
        "id": "qzYC_cGkHkNp",
        "colab_type": "code",
        "outputId": "08574122-6087-4999-a92b-c3f8dc95b5db",
        "colab": {
          "base_uri": "https://localhost:8080/",
          "height": 52
        }
      },
      "source": [
        "# All images will be rescaled by 1./255\n",
        "train_datagen = ImageDataGenerator(rescale=1/255) \n",
        "test_datagen = ImageDataGenerator(rescale=1/255)\n",
        "\n",
        "# Flow training images in batches of 20 using train_datagen generator\n",
        "train_generator = train_datagen.flow_from_directory(\n",
        "        train_dir,\n",
        "        target_size= (150,150), \n",
        "        batch_size=20,\n",
        "        class_mode='sparse')\n",
        "\n",
        "# Flow validation images in batches of 20 using test_datagen generator\n",
        "validation_generator = test_datagen.flow_from_directory(\n",
        "        validation_dir,\n",
        "        target_size=(150,150), \n",
        "        batch_size=20,\n",
        "        class_mode='sparse' \n",
        ") "
      ],
      "execution_count": 15,
      "outputs": [
        {
          "output_type": "stream",
          "text": [
            "Found 14042 images belonging to 6 classes.\n",
            "Found 3000 images belonging to 6 classes.\n"
          ],
          "name": "stdout"
        }
      ]
    },
    {
      "cell_type": "code",
      "metadata": {
        "id": "oeGv93C_Htr-",
        "colab_type": "code",
        "outputId": "76938442-9d50-441b-daaf-42ae090220aa",
        "colab": {
          "base_uri": "https://localhost:8080/",
          "height": 1000
        }
      },
      "source": [
        "history = model.fit_generator(\n",
        "      train_generator,\n",
        "      steps_per_epoch=100,  # 2000 images = batch_size * steps\n",
        "      epochs=50,\n",
        "      validation_data=validation_generator,\n",
        "      validation_steps=50,  # 1000 images = batch_size * steps\n",
        "      verbose=2)"
      ],
      "execution_count": 16,
      "outputs": [
        {
          "output_type": "stream",
          "text": [
            "Epoch 1/50\n",
            "100/100 - 702s - loss: 1.4827 - acc: 0.4060 - val_loss: 1.2328 - val_acc: 0.4900\n",
            "Epoch 2/50\n",
            "100/100 - 422s - loss: 1.2081 - acc: 0.5295 - val_loss: 1.2036 - val_acc: 0.5390\n",
            "Epoch 3/50\n",
            "100/100 - 459s - loss: 1.1203 - acc: 0.5730 - val_loss: 1.0743 - val_acc: 0.5640\n",
            "Epoch 4/50\n",
            "100/100 - 480s - loss: 1.0813 - acc: 0.5745 - val_loss: 1.0898 - val_acc: 0.5620\n",
            "Epoch 5/50\n",
            "100/100 - 479s - loss: 1.0029 - acc: 0.6035 - val_loss: 1.0223 - val_acc: 0.5910\n",
            "Epoch 6/50\n",
            "100/100 - 460s - loss: 1.0062 - acc: 0.6060 - val_loss: 0.9669 - val_acc: 0.6280\n",
            "Epoch 7/50\n",
            "100/100 - 479s - loss: 0.9307 - acc: 0.6395 - val_loss: 0.8905 - val_acc: 0.6570\n",
            "Epoch 8/50\n",
            "100/100 - 19s - loss: 0.8840 - acc: 0.6645 - val_loss: 1.0341 - val_acc: 0.6090\n",
            "Epoch 9/50\n",
            "100/100 - 8s - loss: 0.9053 - acc: 0.6550 - val_loss: 0.9325 - val_acc: 0.6310\n",
            "Epoch 10/50\n",
            "100/100 - 8s - loss: 0.8516 - acc: 0.6770 - val_loss: 1.0138 - val_acc: 0.6450\n",
            "Epoch 11/50\n",
            "100/100 - 8s - loss: 0.8519 - acc: 0.6825 - val_loss: 0.8975 - val_acc: 0.6590\n",
            "Epoch 12/50\n",
            "100/100 - 8s - loss: 0.8162 - acc: 0.6806 - val_loss: 0.8038 - val_acc: 0.7210\n",
            "Epoch 13/50\n",
            "100/100 - 8s - loss: 0.8045 - acc: 0.6985 - val_loss: 0.8011 - val_acc: 0.7100\n",
            "Epoch 14/50\n",
            "100/100 - 8s - loss: 0.8433 - acc: 0.6905 - val_loss: 0.8078 - val_acc: 0.6930\n",
            "Epoch 15/50\n",
            "100/100 - 8s - loss: 0.7307 - acc: 0.7175 - val_loss: 0.8779 - val_acc: 0.6540\n",
            "Epoch 16/50\n",
            "100/100 - 8s - loss: 0.7533 - acc: 0.7130 - val_loss: 0.8373 - val_acc: 0.6640\n",
            "Epoch 17/50\n",
            "100/100 - 8s - loss: 0.7512 - acc: 0.7195 - val_loss: 0.8766 - val_acc: 0.6410\n",
            "Epoch 18/50\n",
            "100/100 - 8s - loss: 0.7150 - acc: 0.7380 - val_loss: 0.7499 - val_acc: 0.7230\n",
            "Epoch 19/50\n",
            "100/100 - 8s - loss: 0.7339 - acc: 0.7245 - val_loss: 0.7910 - val_acc: 0.7250\n",
            "Epoch 20/50\n",
            "100/100 - 8s - loss: 0.7416 - acc: 0.7235 - val_loss: 0.7933 - val_acc: 0.7230\n",
            "Epoch 21/50\n",
            "100/100 - 9s - loss: 0.6763 - acc: 0.7390 - val_loss: 0.7105 - val_acc: 0.7500\n",
            "Epoch 22/50\n",
            "100/100 - 8s - loss: 0.6816 - acc: 0.7520 - val_loss: 0.7263 - val_acc: 0.7340\n",
            "Epoch 23/50\n",
            "100/100 - 8s - loss: 0.6825 - acc: 0.7495 - val_loss: 0.7371 - val_acc: 0.7350\n",
            "Epoch 24/50\n",
            "100/100 - 8s - loss: 0.6503 - acc: 0.7505 - val_loss: 0.8091 - val_acc: 0.7100\n",
            "Epoch 25/50\n",
            "100/100 - 8s - loss: 0.6203 - acc: 0.7695 - val_loss: 0.7264 - val_acc: 0.7410\n",
            "Epoch 26/50\n",
            "100/100 - 8s - loss: 0.6290 - acc: 0.7735 - val_loss: 0.6436 - val_acc: 0.7790\n",
            "Epoch 27/50\n",
            "100/100 - 8s - loss: 0.6573 - acc: 0.7690 - val_loss: 0.6353 - val_acc: 0.7780\n",
            "Epoch 28/50\n",
            "100/100 - 8s - loss: 0.6306 - acc: 0.7684 - val_loss: 0.6213 - val_acc: 0.7930\n",
            "Epoch 29/50\n",
            "100/100 - 8s - loss: 0.6089 - acc: 0.7800 - val_loss: 0.6285 - val_acc: 0.7990\n",
            "Epoch 30/50\n",
            "100/100 - 8s - loss: 0.5794 - acc: 0.7930 - val_loss: 0.8021 - val_acc: 0.7050\n",
            "Epoch 31/50\n",
            "100/100 - 8s - loss: 0.5493 - acc: 0.7957 - val_loss: 0.6247 - val_acc: 0.7840\n",
            "Epoch 32/50\n",
            "100/100 - 8s - loss: 0.5831 - acc: 0.7895 - val_loss: 0.7326 - val_acc: 0.7210\n",
            "Epoch 33/50\n",
            "100/100 - 8s - loss: 0.6452 - acc: 0.7695 - val_loss: 0.6787 - val_acc: 0.7640\n",
            "Epoch 34/50\n",
            "100/100 - 8s - loss: 0.5757 - acc: 0.8005 - val_loss: 0.5906 - val_acc: 0.7970\n",
            "Epoch 35/50\n",
            "100/100 - 8s - loss: 0.5624 - acc: 0.7945 - val_loss: 0.5882 - val_acc: 0.8010\n",
            "Epoch 36/50\n",
            "100/100 - 8s - loss: 0.5076 - acc: 0.8140 - val_loss: 0.6947 - val_acc: 0.7550\n",
            "Epoch 37/50\n",
            "100/100 - 8s - loss: 0.4986 - acc: 0.8195 - val_loss: 0.5663 - val_acc: 0.8100\n",
            "Epoch 38/50\n",
            "100/100 - 8s - loss: 0.5625 - acc: 0.7920 - val_loss: 0.6205 - val_acc: 0.7740\n",
            "Epoch 39/50\n",
            "100/100 - 8s - loss: 0.5239 - acc: 0.8108 - val_loss: 0.6274 - val_acc: 0.7780\n",
            "Epoch 40/50\n",
            "100/100 - 8s - loss: 0.5483 - acc: 0.7985 - val_loss: 0.6150 - val_acc: 0.7810\n",
            "Epoch 41/50\n",
            "100/100 - 8s - loss: 0.5645 - acc: 0.8020 - val_loss: 0.6075 - val_acc: 0.7850\n",
            "Epoch 42/50\n",
            "100/100 - 8s - loss: 0.5450 - acc: 0.7965 - val_loss: 0.5594 - val_acc: 0.8140\n",
            "Epoch 43/50\n",
            "100/100 - 8s - loss: 0.4856 - acc: 0.8108 - val_loss: 0.8106 - val_acc: 0.7150\n",
            "Epoch 44/50\n",
            "100/100 - 8s - loss: 0.5006 - acc: 0.8180 - val_loss: 0.5243 - val_acc: 0.8320\n",
            "Epoch 45/50\n",
            "100/100 - 8s - loss: 0.4947 - acc: 0.8275 - val_loss: 0.5411 - val_acc: 0.8210\n",
            "Epoch 46/50\n",
            "100/100 - 8s - loss: 0.5159 - acc: 0.8135 - val_loss: 0.6199 - val_acc: 0.7630\n",
            "Epoch 47/50\n",
            "100/100 - 8s - loss: 0.4836 - acc: 0.8250 - val_loss: 0.6611 - val_acc: 0.7760\n",
            "Epoch 48/50\n",
            "100/100 - 8s - loss: 0.4981 - acc: 0.8190 - val_loss: 0.5226 - val_acc: 0.8300\n",
            "Epoch 49/50\n",
            "100/100 - 8s - loss: 0.4574 - acc: 0.8320 - val_loss: 0.5731 - val_acc: 0.8110\n",
            "Epoch 50/50\n",
            "100/100 - 8s - loss: 0.4491 - acc: 0.8350 - val_loss: 0.4922 - val_acc: 0.8330\n"
          ],
          "name": "stdout"
        }
      ]
    },
    {
      "cell_type": "markdown",
      "metadata": {
        "id": "B5_eK6j5tTso",
        "colab_type": "text"
      },
      "source": [
        "### Visualisation of result"
      ]
    },
    {
      "cell_type": "code",
      "metadata": {
        "id": "dlsL8bN4Z4HA",
        "colab_type": "code",
        "outputId": "0e648f51-5738-4969-d229-005647d59c08",
        "colab": {
          "base_uri": "https://localhost:8080/",
          "height": 544
        }
      },
      "source": [
        "import matplotlib.pyplot as plt\n",
        "acc = history.history['acc']\n",
        "val_acc = history.history['val_acc']\n",
        "loss = history.history['loss']\n",
        "val_loss = history.history['val_loss']\n",
        "\n",
        "epochs = range(len(acc))\n",
        "\n",
        "plt.plot(epochs, acc, 'bo', label='Training accuracy')\n",
        "plt.plot(epochs, val_acc, 'b', label='Validation accuracy')\n",
        "plt.title('Training and validation accuracy')\n",
        "\n",
        "plt.figure()\n",
        "\n",
        "plt.plot(epochs, loss, 'bo', label='Training Loss')\n",
        "plt.plot(epochs, val_loss, 'b', label='Validation Loss')\n",
        "plt.title('Training and validation loss')\n",
        "plt.legend()\n",
        "\n",
        "plt.show()"
      ],
      "execution_count": 17,
      "outputs": [
        {
          "output_type": "display_data",
          "data": {
            "image/png": "[encoded data removed]",
            "text/plain": [
              "<Figure size 432x288 with 1 Axes>"
            ]
          },
          "metadata": {
            "tags": []
          }
        },
        {
          "output_type": "display_data",
          "data": {
            "image/png": "[encoded data removed]",
            "text/plain": [
              "<Figure size 432x288 with 1 Axes>"
            ]
          },
          "metadata": {
            "tags": []
          }
        }
      ]
    },
    {
      "cell_type": "code",
      "metadata": {
        "id": "Pu22Et-TaVgy",
        "colab_type": "code",
        "colab": {}
      },
      "source": [
        "model_data_aug = tf.keras.models.Sequential([\n",
        "  tf.keras.layers.Conv2D(32, (3,3), activation='relu', input_shape=(150, 150, 3)),\n",
        "  tf.keras.layers.MaxPooling2D(2,2),\n",
        "  tf.keras.layers.Conv2D(64, (3,3), activation='relu'),\n",
        "  tf.keras.layers.MaxPooling2D(2,2),\n",
        "  tf.keras.layers.Conv2D(128, (3,3), activation='relu'),\n",
        "  tf.keras.layers.MaxPooling2D(2,2),\n",
        "  tf.keras.layers.Conv2D(128, (3,3), activation='relu'),\n",
        "  tf.keras.layers.MaxPooling2D(2,2),\n",
        "  tf.keras.layers.Flatten(),\n",
        "  tf.keras.layers.Dense(512,activation='relu'),\n",
        "  tf.keras.layers.Dense(6,activation='sigmoid'), \n",
        "])"
      ],
      "execution_count": 0,
      "outputs": []
    },
    {
      "cell_type": "code",
      "metadata": {
        "id": "NSNXtW2oaY10",
        "colab_type": "code",
        "outputId": "9bfc0863-dee3-4be1-9d1c-2caeba67cb95",
        "colab": {
          "base_uri": "https://localhost:8080/",
          "height": 52
        }
      },
      "source": [
        "train_datagen = ImageDataGenerator(\n",
        "      rescale=1./255,\n",
        "      rotation_range=40,\n",
        "      width_shift_range=0.2,\n",
        "      height_shift_range=0.2,\n",
        "      shear_range=0.2,\n",
        "      zoom_range=0.2,\n",
        "      horizontal_flip=True,\n",
        "      fill_mode='nearest')\n",
        "\n",
        "test_datagen = ImageDataGenerator(rescale=1/255) \n",
        "\n",
        "train_generator = train_datagen.flow_from_directory(\n",
        "        train_dir,\n",
        "        target_size=(150,150),\n",
        "        batch_size=20,\n",
        "        class_mode='sparse')\n",
        "\n",
        "validation_generator = test_datagen.flow_from_directory(\n",
        "        validation_dir,\n",
        "        target_size=(150,150),\n",
        "        batch_size=20,\n",
        "        class_mode='sparse')"
      ],
      "execution_count": 19,
      "outputs": [
        {
          "output_type": "stream",
          "text": [
            "Found 14042 images belonging to 6 classes.\n",
            "Found 3000 images belonging to 6 classes.\n"
          ],
          "name": "stdout"
        }
      ]
    },
    {
      "cell_type": "code",
      "metadata": {
        "id": "wHScdQYzaak-",
        "colab_type": "code",
        "outputId": "00205be4-e72f-4afd-b7d3-82ea674f3b70",
        "colab": {
          "base_uri": "https://localhost:8080/",
          "height": 1000
        }
      },
      "source": [
        "model_data_aug.compile(loss='sparse_categorical_crossentropy',\n",
        "              optimizer=RMSprop(lr=1e-4),\n",
        "              metrics=['acc'])\n",
        "\n",
        "history = model_data_aug.fit_generator(\n",
        "      train_generator,\n",
        "      steps_per_epoch=100,  # 2000 images = batch_size * steps\n",
        "      epochs=50,\n",
        "      validation_data=validation_generator,\n",
        "      validation_steps=50,  # 1000 images = batch_size * steps\n",
        "      verbose=2)"
      ],
      "execution_count": 20,
      "outputs": [
        {
          "output_type": "stream",
          "text": [
            "Epoch 1/50\n",
            "100/100 - 173s - loss: 1.5236 - acc: 0.3790 - val_loss: 1.4921 - val_acc: 0.4070\n",
            "Epoch 2/50\n",
            "100/100 - 18s - loss: 1.3227 - acc: 0.4645 - val_loss: 1.2452 - val_acc: 0.5170\n",
            "Epoch 3/50\n",
            "100/100 - 18s - loss: 1.2024 - acc: 0.5275 - val_loss: 1.2119 - val_acc: 0.5340\n",
            "Epoch 4/50\n",
            "100/100 - 17s - loss: 1.1890 - acc: 0.5070 - val_loss: 1.1890 - val_acc: 0.5290\n",
            "Epoch 5/50\n",
            "100/100 - 17s - loss: 1.1694 - acc: 0.5425 - val_loss: 1.0386 - val_acc: 0.5950\n",
            "Epoch 6/50\n",
            "100/100 - 17s - loss: 1.1059 - acc: 0.5545 - val_loss: 0.9572 - val_acc: 0.6400\n",
            "Epoch 7/50\n",
            "100/100 - 17s - loss: 1.0858 - acc: 0.5706 - val_loss: 0.9670 - val_acc: 0.6140\n",
            "Epoch 8/50\n",
            "100/100 - 19s - loss: 1.0923 - acc: 0.5735 - val_loss: 1.0116 - val_acc: 0.5950\n",
            "Epoch 9/50\n",
            "100/100 - 17s - loss: 1.0588 - acc: 0.5835 - val_loss: 1.0421 - val_acc: 0.6000\n",
            "Epoch 10/50\n",
            "100/100 - 17s - loss: 1.0129 - acc: 0.6215 - val_loss: 0.9073 - val_acc: 0.6420\n",
            "Epoch 11/50\n",
            "100/100 - 17s - loss: 1.0446 - acc: 0.5880 - val_loss: 0.8717 - val_acc: 0.6530\n",
            "Epoch 12/50\n",
            "100/100 - 18s - loss: 0.9958 - acc: 0.6195 - val_loss: 0.9826 - val_acc: 0.6090\n",
            "Epoch 13/50\n",
            "100/100 - 17s - loss: 0.9883 - acc: 0.6236 - val_loss: 1.0259 - val_acc: 0.6360\n",
            "Epoch 14/50\n",
            "100/100 - 17s - loss: 0.9682 - acc: 0.6375 - val_loss: 0.8600 - val_acc: 0.6650\n",
            "Epoch 15/50\n",
            "100/100 - 19s - loss: 0.9704 - acc: 0.6365 - val_loss: 0.9899 - val_acc: 0.6300\n",
            "Epoch 16/50\n",
            "100/100 - 17s - loss: 0.9843 - acc: 0.6265 - val_loss: 0.8549 - val_acc: 0.6660\n",
            "Epoch 17/50\n",
            "100/100 - 17s - loss: 0.9414 - acc: 0.6445 - val_loss: 0.7870 - val_acc: 0.6990\n",
            "Epoch 18/50\n",
            "100/100 - 17s - loss: 0.9451 - acc: 0.6433 - val_loss: 0.9047 - val_acc: 0.6590\n",
            "Epoch 19/50\n",
            "100/100 - 17s - loss: 0.8803 - acc: 0.6625 - val_loss: 0.8753 - val_acc: 0.6510\n",
            "Epoch 20/50\n",
            "100/100 - 17s - loss: 0.9086 - acc: 0.6615 - val_loss: 0.7545 - val_acc: 0.7110\n",
            "Epoch 21/50\n",
            "100/100 - 17s - loss: 0.8904 - acc: 0.6640 - val_loss: 0.9657 - val_acc: 0.6450\n",
            "Epoch 22/50\n",
            "100/100 - 18s - loss: 0.9052 - acc: 0.6615 - val_loss: 0.7399 - val_acc: 0.7270\n",
            "Epoch 23/50\n",
            "100/100 - 18s - loss: 0.8800 - acc: 0.6695 - val_loss: 0.7808 - val_acc: 0.6880\n",
            "Epoch 24/50\n",
            "100/100 - 18s - loss: 0.8723 - acc: 0.6770 - val_loss: 0.7045 - val_acc: 0.7300\n",
            "Epoch 25/50\n",
            "100/100 - 18s - loss: 0.8562 - acc: 0.6740 - val_loss: 0.7310 - val_acc: 0.7290\n",
            "Epoch 26/50\n",
            "100/100 - 17s - loss: 0.8930 - acc: 0.6570 - val_loss: 0.7890 - val_acc: 0.7030\n",
            "Epoch 27/50\n",
            "100/100 - 17s - loss: 0.8650 - acc: 0.6811 - val_loss: 0.7777 - val_acc: 0.7080\n",
            "Epoch 28/50\n",
            "100/100 - 18s - loss: 0.8613 - acc: 0.6790 - val_loss: 0.8715 - val_acc: 0.6740\n",
            "Epoch 29/50\n",
            "100/100 - 18s - loss: 0.8491 - acc: 0.6865 - val_loss: 0.8991 - val_acc: 0.6780\n",
            "Epoch 30/50\n",
            "100/100 - 17s - loss: 0.8094 - acc: 0.6985 - val_loss: 0.7300 - val_acc: 0.7310\n",
            "Epoch 31/50\n",
            "100/100 - 18s - loss: 0.8605 - acc: 0.6770 - val_loss: 0.6740 - val_acc: 0.7580\n",
            "Epoch 32/50\n",
            "100/100 - 18s - loss: 0.7819 - acc: 0.7065 - val_loss: 0.6956 - val_acc: 0.7430\n",
            "Epoch 33/50\n",
            "100/100 - 17s - loss: 0.8116 - acc: 0.7000 - val_loss: 0.8521 - val_acc: 0.6770\n",
            "Epoch 34/50\n",
            "100/100 - 17s - loss: 0.8179 - acc: 0.6882 - val_loss: 0.6686 - val_acc: 0.7570\n",
            "Epoch 35/50\n",
            "100/100 - 17s - loss: 0.8178 - acc: 0.6960 - val_loss: 0.7561 - val_acc: 0.7250\n",
            "Epoch 36/50\n",
            "100/100 - 18s - loss: 0.8079 - acc: 0.7060 - val_loss: 0.7707 - val_acc: 0.7280\n",
            "Epoch 37/50\n",
            "100/100 - 18s - loss: 0.7936 - acc: 0.7050 - val_loss: 0.7384 - val_acc: 0.7300\n",
            "Epoch 38/50\n",
            "100/100 - 17s - loss: 0.7870 - acc: 0.7090 - val_loss: 0.7251 - val_acc: 0.7360\n",
            "Epoch 39/50\n",
            "100/100 - 18s - loss: 0.7737 - acc: 0.7095 - val_loss: 0.7686 - val_acc: 0.7280\n",
            "Epoch 40/50\n",
            "100/100 - 17s - loss: 0.7936 - acc: 0.7040 - val_loss: 0.7847 - val_acc: 0.6960\n",
            "Epoch 41/50\n",
            "100/100 - 17s - loss: 0.7607 - acc: 0.7180 - val_loss: 0.6270 - val_acc: 0.7690\n",
            "Epoch 42/50\n",
            "100/100 - 17s - loss: 0.8043 - acc: 0.7059 - val_loss: 0.7231 - val_acc: 0.7350\n",
            "Epoch 43/50\n",
            "100/100 - 17s - loss: 0.7987 - acc: 0.7035 - val_loss: 0.7016 - val_acc: 0.7600\n",
            "Epoch 44/50\n",
            "100/100 - 17s - loss: 0.7505 - acc: 0.7230 - val_loss: 0.7626 - val_acc: 0.7370\n",
            "Epoch 45/50\n",
            "100/100 - 17s - loss: 0.7817 - acc: 0.7115 - val_loss: 0.6484 - val_acc: 0.7790\n",
            "Epoch 46/50\n",
            "100/100 - 17s - loss: 0.7553 - acc: 0.7170 - val_loss: 0.6781 - val_acc: 0.7610\n",
            "Epoch 47/50\n",
            "100/100 - 18s - loss: 0.7718 - acc: 0.7130 - val_loss: 0.6583 - val_acc: 0.7770\n",
            "Epoch 48/50\n",
            "100/100 - 17s - loss: 0.7746 - acc: 0.7235 - val_loss: 0.6924 - val_acc: 0.7510\n",
            "Epoch 49/50\n",
            "100/100 - 17s - loss: 0.7109 - acc: 0.7462 - val_loss: 0.6555 - val_acc: 0.7720\n",
            "Epoch 50/50\n",
            "100/100 - 17s - loss: 0.7253 - acc: 0.7370 - val_loss: 0.6137 - val_acc: 0.7880\n"
          ],
          "name": "stdout"
        }
      ]
    },
    {
      "cell_type": "markdown",
      "metadata": {
        "id": "gKdf98Ujtrgg",
        "colab_type": "text"
      },
      "source": [
        "###Visualisation of result"
      ]
    },
    {
      "cell_type": "code",
      "metadata": {
        "id": "_WOpvlCeeCX2",
        "colab_type": "code",
        "outputId": "721b6946-d30e-42b4-81a5-b124a37c4df7",
        "colab": {
          "base_uri": "https://localhost:8080/",
          "height": 544
        }
      },
      "source": [
        "import matplotlib.pyplot as plt\n",
        "acc = history.history['acc']\n",
        "val_acc = history.history['val_acc']\n",
        "loss = history.history['loss']\n",
        "val_loss = history.history['val_loss']\n",
        "\n",
        "epochs = range(len(acc))\n",
        "\n",
        "plt.plot(epochs, acc, 'bo', label='Training accuracy')\n",
        "plt.plot(epochs, val_acc, 'b', label='Validation accuracy')\n",
        "plt.title('Training and validation accuracy')\n",
        "\n",
        "plt.figure()\n",
        "\n",
        "plt.plot(epochs, loss, 'bo', label='Training Loss')\n",
        "plt.plot(epochs, val_loss, 'b', label='Validation Loss')\n",
        "plt.title('Training and validation loss')\n",
        "plt.legend()\n",
        "\n",
        "plt.show()"
      ],
      "execution_count": 21,
      "outputs": [
        {
          "output_type": "display_data",
          "data": {
            "image/png": "[encoded data removed]",
            "text/plain": [
              "<Figure size 432x288 with 1 Axes>"
            ]
          },
          "metadata": {
            "tags": []
          }
        },
        {
          "output_type": "display_data",
          "data": {
            "image/png": "[encoded data removed]",
            "text/plain": [
              "<Figure size 432x288 with 1 Axes>"
            ]
          },
          "metadata": {
            "tags": []
          }
        }
      ]
    },
    {
      "cell_type": "code",
      "metadata": {
        "id": "DyB44RjueUI4",
        "colab_type": "code",
        "colab": {}
      },
      "source": [
        ""
      ],
      "execution_count": 0,
      "outputs": []
    }
  ]
}